{
 "cells": [
  {
   "cell_type": "markdown",
   "id": "3a7e2c83-e94d-40c7-936e-e789ce743289",
   "metadata": {},
   "source": [
    "# Machine Learning Model Notebook for On-Device Machine Learning for vibration based predictive maintainance of industrial induction motors using MEMS sensors."
   ]
  },
  {
   "cell_type": "markdown",
   "id": "b9623ab0-3817-4c3e-9f90-497d6eb8c3ef",
   "metadata": {},
   "source": [
    "### imports"
   ]
  },
  {
   "cell_type": "code",
   "execution_count": 3,
   "id": "5b38515a-d160-4880-81eb-3c879ac519a1",
   "metadata": {},
   "outputs": [],
   "source": [
    "import os\n",
    "import random\n",
    "import pickle\n",
    "import json, joblib\n",
    "import numpy as np\n",
    "import pandas as pd\n",
    "import matplotlib.pyplot as plt\n",
    "import seaborn as sns\n",
    "import tensorflow as tf\n",
    "\n",
    "from glob import glob\n",
    "from sklearn.model_selection import train_test_split\n",
    "from sklearn.preprocessing import StandardScaler, LabelEncoder\n",
    "from sklearn.metrics import classification_report, confusion_matrix\n",
    "from tensorflow.keras import regularizers\n",
    "from tensorflow.keras import layers, models, callbacks, utils"
   ]
  },
  {
   "cell_type": "markdown",
   "id": "c2ecbea1-6930-47f9-99f3-4526cc40a746",
   "metadata": {},
   "source": [
    "### file loading and hyperparameters"
   ]
  },
  {
   "cell_type": "code",
   "execution_count": 5,
   "id": "b1cb764f-70ee-475f-b06a-adf18e9be083",
   "metadata": {},
   "outputs": [],
   "source": [
    "filemap = {\n",
    "    'motor_off': 'motor_off.xlsx',\n",
    "    'motor_on': 'motor_on.xlsx',\n",
    "    'motor_on_nofan': 'motor_on_nofan.xlsx',\n",
    "    'motor_on_badfan': 'motor_on_badfan.xlsx'\n",
    "}\n",
    "data_columns = ['ax','ay','az','gx','gy','gz']\n",
    "label_column = 'class_label'\n",
    "time_column = 'timestamp'\n",
    "fs = 40.0\n",
    "\n",
    "# Made changes here, 50% overlap considered\n",
    "window_size = 64\n",
    "step = window_size // 2\n",
    "\n",
    "test_size = 0.2\n",
    "val_size = 0.1\n",
    "\n",
    "batch_size = 64\n",
    "epochs = 60"
   ]
  },
  {
   "cell_type": "code",
   "execution_count": 6,
   "id": "a3cb15cb-1293-458b-931c-aa93e0f59d1c",
   "metadata": {},
   "outputs": [
    {
     "name": "stdout",
     "output_type": "stream",
     "text": [
      "combined shape: (144000, 8)\n"
     ]
    }
   ],
   "source": [
    "frames = []\n",
    "\n",
    "for label,fname in filemap.items():\n",
    "    df = pd.read_excel(fname)\n",
    "    frames.append(df)\n",
    "\n",
    "df = pd.concat(frames)\n",
    "print ('combined shape:', df.shape)"
   ]
  },
  {
   "cell_type": "markdown",
   "id": "c7eb949c-1600-49ee-b9b4-bdb2c11d83e2",
   "metadata": {},
   "source": [
    "## preprocessing"
   ]
  },
  {
   "cell_type": "code",
   "execution_count": 8,
   "id": "2c6a4597-7aec-4263-b489-9af033f81d7f",
   "metadata": {},
   "outputs": [
    {
     "name": "stdout",
     "output_type": "stream",
     "text": [
      "data shape (samples, channels): (144000, 6)\n"
     ]
    }
   ],
   "source": [
    "data_arr = df[data_columns].values.astype('float32')\n",
    "labels_arr = df[label_column].values\n",
    "\n",
    "print ('data shape (samples, channels):', data_arr.shape)"
   ]
  },
  {
   "cell_type": "code",
   "execution_count": 9,
   "id": "89258d81-5ba0-4d02-9068-3717a5f1e366",
   "metadata": {},
   "outputs": [
    {
     "name": "stdout",
     "output_type": "stream",
     "text": [
      "windows created: X-shape: (4499, 64, 6) y shape: (4499,)\n"
     ]
    }
   ],
   "source": [
    "# sliding window generator\n",
    "\n",
    "def make_windows(data, labels, window_size = window_size, step = step):\n",
    "    x = []\n",
    "    y = []\n",
    "    n_samples = data.shape[0]\n",
    "\n",
    "    for start in range(0, n_samples - window_size + 1, step):\n",
    "        end = start + window_size\n",
    "        win = data[start:end]\n",
    "        lab_win = labels[start:end]\n",
    "        vals, counts = np.unique(lab_win, return_counts = True)\n",
    "        label = vals[np.argmax(counts)]\n",
    "        x.append(win)\n",
    "        y.append(label)\n",
    "    X = np.array(x)\n",
    "    y = np.array(y)\n",
    "    return X,y\n",
    "\n",
    "X,y = make_windows(data_arr, labels_arr, window_size, step)\n",
    "print('windows created: X-shape:', X.shape, 'y shape:', y.shape)"
   ]
  },
  {
   "cell_type": "code",
   "execution_count": 10,
   "id": "12df0196-81f8-488a-a8e8-f0caedb997dc",
   "metadata": {},
   "outputs": [
    {
     "name": "stdout",
     "output_type": "stream",
     "text": [
      "Detected classes (from np.unique): [0, 1, 2, 3]\n",
      "Initial class_to_index keys (sample): [(0, 0), ('0', 0), (1, 1), ('1', 1), (2, 2), ('2', 2), (3, 3), ('3', 3)]\n",
      "Converted y -> y_idx shape: (4499,) num_classes: 4\n"
     ]
    }
   ],
   "source": [
    "# encode labels\n",
    "#le = LabelEncoder()\n",
    "#y_enc = le.fit_transform(y)\n",
    "#print('label classes:', le.classes_)\n",
    "\n",
    "# Robust conversion of label strings/ints -> integer indices (works if y contains ints, strings, or mixed)\n",
    "import numpy as np\n",
    "import json\n",
    "\n",
    "# `y` is the 1D array of window labels returned by make_windows (e.g. ['motor_on', 'motor_off', 0, 1, ...])\n",
    "# Create classes in deterministic order. Use np.unique which sorts; if you prefer order-of-appearance use the commented alternative.\n",
    "classes = np.unique(y).tolist()             # sorted unique values\n",
    "# If you prefer first-appearance order (not sorted), uncomment:\n",
    "# import pandas as pd\n",
    "# classes = pd.Series(y).astype(object).unique().tolist()\n",
    "\n",
    "num_classes = len(classes)\n",
    "print(\"Detected classes (from np.unique):\", classes)\n",
    "\n",
    "# Build mapping: try to be flexible about types (map both original and string form to same index)\n",
    "class_to_index = {}\n",
    "for i, c in enumerate(classes):\n",
    "    class_to_index[c] = i\n",
    "    # also map the stringified form to be defensive (so '0' maps to 0 if 0 is in classes)\n",
    "    try:\n",
    "        class_to_index[str(c)] = i\n",
    "    except Exception:\n",
    "        pass\n",
    "\n",
    "print(\"Initial class_to_index keys (sample):\", list(class_to_index.items())[:10])\n",
    "\n",
    "# Now build y_idx robustly: try direct lookup, then try string lookup, else raise a clearer error\n",
    "y_idx_list = []\n",
    "missing_values = set()\n",
    "for lbl in y:\n",
    "    if lbl in class_to_index:\n",
    "        y_idx_list.append(class_to_index[lbl])\n",
    "    elif str(lbl) in class_to_index:\n",
    "        y_idx_list.append(class_to_index[str(lbl)])\n",
    "    else:\n",
    "        # collect missing and continue (we'll raise after loop to show all missing values)\n",
    "        missing_values.add(lbl)\n",
    "        y_idx_list.append(-1)  # placeholder\n",
    "\n",
    "if missing_values:\n",
    "    raise KeyError(\n",
    "        \"Some labels from `y` were not found in computed classes. \"\n",
    "        f\"Missing examples (up to 20 shown): {list(missing_values)[:20]}. \"\n",
    "        \"Inspect `y` for inconsistent types or unexpected values.\"\n",
    "    )\n",
    "\n",
    "y_idx = np.array(y_idx_list, dtype=np.int32)\n",
    "print(\"Converted y -> y_idx shape:\", y_idx.shape, \"num_classes:\", num_classes)"
   ]
  },
  {
   "cell_type": "code",
   "execution_count": 11,
   "id": "e8e9bd15-642b-4e21-b5b7-a00610330199",
   "metadata": {},
   "outputs": [],
   "source": [
    "# train/test split (stratified by window label)\n",
    "X_train, X_test, y_train, y_test = train_test_split(X, y_idx, test_size=test_size, stratify=y_idx, random_state=42)"
   ]
  },
  {
   "cell_type": "code",
   "execution_count": 12,
   "id": "8961f0d9-9602-4ea6-b6b6-1fd22ca10c25",
   "metadata": {},
   "outputs": [],
   "source": [
    "# splitting train into training and validation\n",
    "X_train, X_val, y_train, y_val = train_test_split(X_train, y_train, test_size=val_size, stratify=y_train, random_state=42)"
   ]
  },
  {
   "cell_type": "code",
   "execution_count": 13,
   "id": "d51b1863-273a-41c0-8b1a-f4053a989a78",
   "metadata": {},
   "outputs": [
    {
     "name": "stdout",
     "output_type": "stream",
     "text": [
      "train/test/val split shape: (3239, 64, 6) (360, 64, 6) (900, 64, 6)\n"
     ]
    }
   ],
   "source": [
    "print('train/test/val split shape:', X_train.shape, X_val.shape, X_test.shape)"
   ]
  },
  {
   "cell_type": "code",
   "execution_count": 14,
   "id": "0b9bd01f-8ea5-4c82-a737-0c86e9908a30",
   "metadata": {},
   "outputs": [],
   "source": [
    "# scaling channels using standard scaler and then fitting on training windows + reshaping to fit scaler and then reshaping back\n",
    "n_channels = X.shape[2]\n",
    "scaler = StandardScaler()\n",
    "reshaped = X_train.reshape(-1, n_channels)\n",
    "scaler.fit(reshaped)\n",
    "\n",
    "X_train_scaled = scaler.transform(X_train.reshape(-1, n_channels)).reshape(X_train.shape)\n",
    "X_val_scaled = scaler.transform(X_val.reshape(-1, n_channels)).reshape(X_val.shape)\n",
    "X_test_scaled = scaler.transform(X_test.reshape(-1, n_channels)).reshape(X_test.shape)"
   ]
  },
  {
   "cell_type": "code",
   "execution_count": 15,
   "id": "a3928daf-0817-40c2-a7bf-9af2f1c37fbf",
   "metadata": {},
   "outputs": [
    {
     "name": "stdout",
     "output_type": "stream",
     "text": [
      "y_train_cat shape: (3239, 4) num_classes: 4\n"
     ]
    }
   ],
   "source": [
    "# converting integer label indices to one-hot (for model.fit)\n",
    "# num_classes already set from classes list created earlier\n",
    "y_train_cat = tf.keras.utils.to_categorical(y_train, num_classes=num_classes)\n",
    "y_val_cat   = tf.keras.utils.to_categorical(y_val,   num_classes=num_classes)\n",
    "y_test_cat  = tf.keras.utils.to_categorical(y_test,  num_classes=num_classes)\n",
    "\n",
    "print(\"y_train_cat shape:\", y_train_cat.shape, \"num_classes:\", num_classes)"
   ]
  },
  {
   "cell_type": "code",
   "execution_count": 16,
   "id": "5119dc83-62a7-40d2-9406-858acc92b80b",
   "metadata": {},
   "outputs": [],
   "source": [
    "# For Keras: ensure dtype float32\n",
    "X_train_scaled = X_train_scaled.astype('float32')\n",
    "X_test_scaled = X_test_scaled.astype('float32')"
   ]
  },
  {
   "cell_type": "markdown",
   "id": "298bc8f5-c0cf-48b6-b415-97eef71ded62",
   "metadata": {},
   "source": [
    "## model architecture"
   ]
  },
  {
   "cell_type": "code",
   "execution_count": 18,
   "id": "84952f39-8515-4700-a0e4-2a7678cbef92",
   "metadata": {},
   "outputs": [
    {
     "data": {
      "text/html": [
       "<pre style=\"white-space:pre;overflow-x:auto;line-height:normal;font-family:Menlo,'DejaVu Sans Mono',consolas,'Courier New',monospace\"><span style=\"font-weight: bold\">Model: \"sequential\"</span>\n",
       "</pre>\n"
      ],
      "text/plain": [
       "\u001b[1mModel: \"sequential\"\u001b[0m\n"
      ]
     },
     "metadata": {},
     "output_type": "display_data"
    },
    {
     "data": {
      "text/html": [
       "<pre style=\"white-space:pre;overflow-x:auto;line-height:normal;font-family:Menlo,'DejaVu Sans Mono',consolas,'Courier New',monospace\">┏━━━━━━━━━━━━━━━━━━━━━━━━━━━━━━━━━┳━━━━━━━━━━━━━━━━━━━━━━━━┳━━━━━━━━━━━━━━━┓\n",
       "┃<span style=\"font-weight: bold\"> Layer (type)                    </span>┃<span style=\"font-weight: bold\"> Output Shape           </span>┃<span style=\"font-weight: bold\">       Param # </span>┃\n",
       "┡━━━━━━━━━━━━━━━━━━━━━━━━━━━━━━━━━╇━━━━━━━━━━━━━━━━━━━━━━━━╇━━━━━━━━━━━━━━━┩\n",
       "│ conv1d (<span style=\"color: #0087ff; text-decoration-color: #0087ff\">Conv1D</span>)                 │ (<span style=\"color: #00d7ff; text-decoration-color: #00d7ff\">None</span>, <span style=\"color: #00af00; text-decoration-color: #00af00\">64</span>, <span style=\"color: #00af00; text-decoration-color: #00af00\">20</span>)         │           <span style=\"color: #00af00; text-decoration-color: #00af00\">860</span> │\n",
       "├─────────────────────────────────┼────────────────────────┼───────────────┤\n",
       "│ batch_normalization             │ (<span style=\"color: #00d7ff; text-decoration-color: #00d7ff\">None</span>, <span style=\"color: #00af00; text-decoration-color: #00af00\">64</span>, <span style=\"color: #00af00; text-decoration-color: #00af00\">20</span>)         │            <span style=\"color: #00af00; text-decoration-color: #00af00\">80</span> │\n",
       "│ (<span style=\"color: #0087ff; text-decoration-color: #0087ff\">BatchNormalization</span>)            │                        │               │\n",
       "├─────────────────────────────────┼────────────────────────┼───────────────┤\n",
       "│ activation (<span style=\"color: #0087ff; text-decoration-color: #0087ff\">Activation</span>)         │ (<span style=\"color: #00d7ff; text-decoration-color: #00d7ff\">None</span>, <span style=\"color: #00af00; text-decoration-color: #00af00\">64</span>, <span style=\"color: #00af00; text-decoration-color: #00af00\">20</span>)         │             <span style=\"color: #00af00; text-decoration-color: #00af00\">0</span> │\n",
       "├─────────────────────────────────┼────────────────────────┼───────────────┤\n",
       "│ spatial_dropout1d               │ (<span style=\"color: #00d7ff; text-decoration-color: #00d7ff\">None</span>, <span style=\"color: #00af00; text-decoration-color: #00af00\">64</span>, <span style=\"color: #00af00; text-decoration-color: #00af00\">20</span>)         │             <span style=\"color: #00af00; text-decoration-color: #00af00\">0</span> │\n",
       "│ (<span style=\"color: #0087ff; text-decoration-color: #0087ff\">SpatialDropout1D</span>)              │                        │               │\n",
       "├─────────────────────────────────┼────────────────────────┼───────────────┤\n",
       "│ max_pooling1d (<span style=\"color: #0087ff; text-decoration-color: #0087ff\">MaxPooling1D</span>)    │ (<span style=\"color: #00d7ff; text-decoration-color: #00d7ff\">None</span>, <span style=\"color: #00af00; text-decoration-color: #00af00\">32</span>, <span style=\"color: #00af00; text-decoration-color: #00af00\">20</span>)         │             <span style=\"color: #00af00; text-decoration-color: #00af00\">0</span> │\n",
       "├─────────────────────────────────┼────────────────────────┼───────────────┤\n",
       "│ conv1d_1 (<span style=\"color: #0087ff; text-decoration-color: #0087ff\">Conv1D</span>)               │ (<span style=\"color: #00d7ff; text-decoration-color: #00d7ff\">None</span>, <span style=\"color: #00af00; text-decoration-color: #00af00\">32</span>, <span style=\"color: #00af00; text-decoration-color: #00af00\">40</span>)         │         <span style=\"color: #00af00; text-decoration-color: #00af00\">4,040</span> │\n",
       "├─────────────────────────────────┼────────────────────────┼───────────────┤\n",
       "│ batch_normalization_1           │ (<span style=\"color: #00d7ff; text-decoration-color: #00d7ff\">None</span>, <span style=\"color: #00af00; text-decoration-color: #00af00\">32</span>, <span style=\"color: #00af00; text-decoration-color: #00af00\">40</span>)         │           <span style=\"color: #00af00; text-decoration-color: #00af00\">160</span> │\n",
       "│ (<span style=\"color: #0087ff; text-decoration-color: #0087ff\">BatchNormalization</span>)            │                        │               │\n",
       "├─────────────────────────────────┼────────────────────────┼───────────────┤\n",
       "│ activation_1 (<span style=\"color: #0087ff; text-decoration-color: #0087ff\">Activation</span>)       │ (<span style=\"color: #00d7ff; text-decoration-color: #00d7ff\">None</span>, <span style=\"color: #00af00; text-decoration-color: #00af00\">32</span>, <span style=\"color: #00af00; text-decoration-color: #00af00\">40</span>)         │             <span style=\"color: #00af00; text-decoration-color: #00af00\">0</span> │\n",
       "├─────────────────────────────────┼────────────────────────┼───────────────┤\n",
       "│ spatial_dropout1d_1             │ (<span style=\"color: #00d7ff; text-decoration-color: #00d7ff\">None</span>, <span style=\"color: #00af00; text-decoration-color: #00af00\">32</span>, <span style=\"color: #00af00; text-decoration-color: #00af00\">40</span>)         │             <span style=\"color: #00af00; text-decoration-color: #00af00\">0</span> │\n",
       "│ (<span style=\"color: #0087ff; text-decoration-color: #0087ff\">SpatialDropout1D</span>)              │                        │               │\n",
       "├─────────────────────────────────┼────────────────────────┼───────────────┤\n",
       "│ max_pooling1d_1 (<span style=\"color: #0087ff; text-decoration-color: #0087ff\">MaxPooling1D</span>)  │ (<span style=\"color: #00d7ff; text-decoration-color: #00d7ff\">None</span>, <span style=\"color: #00af00; text-decoration-color: #00af00\">16</span>, <span style=\"color: #00af00; text-decoration-color: #00af00\">40</span>)         │             <span style=\"color: #00af00; text-decoration-color: #00af00\">0</span> │\n",
       "├─────────────────────────────────┼────────────────────────┼───────────────┤\n",
       "│ conv1d_2 (<span style=\"color: #0087ff; text-decoration-color: #0087ff\">Conv1D</span>)               │ (<span style=\"color: #00d7ff; text-decoration-color: #00d7ff\">None</span>, <span style=\"color: #00af00; text-decoration-color: #00af00\">16</span>, <span style=\"color: #00af00; text-decoration-color: #00af00\">20</span>)         │         <span style=\"color: #00af00; text-decoration-color: #00af00\">2,420</span> │\n",
       "├─────────────────────────────────┼────────────────────────┼───────────────┤\n",
       "│ batch_normalization_2           │ (<span style=\"color: #00d7ff; text-decoration-color: #00d7ff\">None</span>, <span style=\"color: #00af00; text-decoration-color: #00af00\">16</span>, <span style=\"color: #00af00; text-decoration-color: #00af00\">20</span>)         │            <span style=\"color: #00af00; text-decoration-color: #00af00\">80</span> │\n",
       "│ (<span style=\"color: #0087ff; text-decoration-color: #0087ff\">BatchNormalization</span>)            │                        │               │\n",
       "├─────────────────────────────────┼────────────────────────┼───────────────┤\n",
       "│ activation_2 (<span style=\"color: #0087ff; text-decoration-color: #0087ff\">Activation</span>)       │ (<span style=\"color: #00d7ff; text-decoration-color: #00d7ff\">None</span>, <span style=\"color: #00af00; text-decoration-color: #00af00\">16</span>, <span style=\"color: #00af00; text-decoration-color: #00af00\">20</span>)         │             <span style=\"color: #00af00; text-decoration-color: #00af00\">0</span> │\n",
       "├─────────────────────────────────┼────────────────────────┼───────────────┤\n",
       "│ global_average_pooling1d        │ (<span style=\"color: #00d7ff; text-decoration-color: #00d7ff\">None</span>, <span style=\"color: #00af00; text-decoration-color: #00af00\">20</span>)             │             <span style=\"color: #00af00; text-decoration-color: #00af00\">0</span> │\n",
       "│ (<span style=\"color: #0087ff; text-decoration-color: #0087ff\">GlobalAveragePooling1D</span>)        │                        │               │\n",
       "├─────────────────────────────────┼────────────────────────┼───────────────┤\n",
       "│ dense (<span style=\"color: #0087ff; text-decoration-color: #0087ff\">Dense</span>)                   │ (<span style=\"color: #00d7ff; text-decoration-color: #00d7ff\">None</span>, <span style=\"color: #00af00; text-decoration-color: #00af00\">64</span>)             │         <span style=\"color: #00af00; text-decoration-color: #00af00\">1,344</span> │\n",
       "├─────────────────────────────────┼────────────────────────┼───────────────┤\n",
       "│ batch_normalization_3           │ (<span style=\"color: #00d7ff; text-decoration-color: #00d7ff\">None</span>, <span style=\"color: #00af00; text-decoration-color: #00af00\">64</span>)             │           <span style=\"color: #00af00; text-decoration-color: #00af00\">256</span> │\n",
       "│ (<span style=\"color: #0087ff; text-decoration-color: #0087ff\">BatchNormalization</span>)            │                        │               │\n",
       "├─────────────────────────────────┼────────────────────────┼───────────────┤\n",
       "│ activation_3 (<span style=\"color: #0087ff; text-decoration-color: #0087ff\">Activation</span>)       │ (<span style=\"color: #00d7ff; text-decoration-color: #00d7ff\">None</span>, <span style=\"color: #00af00; text-decoration-color: #00af00\">64</span>)             │             <span style=\"color: #00af00; text-decoration-color: #00af00\">0</span> │\n",
       "├─────────────────────────────────┼────────────────────────┼───────────────┤\n",
       "│ dropout (<span style=\"color: #0087ff; text-decoration-color: #0087ff\">Dropout</span>)               │ (<span style=\"color: #00d7ff; text-decoration-color: #00d7ff\">None</span>, <span style=\"color: #00af00; text-decoration-color: #00af00\">64</span>)             │             <span style=\"color: #00af00; text-decoration-color: #00af00\">0</span> │\n",
       "├─────────────────────────────────┼────────────────────────┼───────────────┤\n",
       "│ dense_1 (<span style=\"color: #0087ff; text-decoration-color: #0087ff\">Dense</span>)                 │ (<span style=\"color: #00d7ff; text-decoration-color: #00d7ff\">None</span>, <span style=\"color: #00af00; text-decoration-color: #00af00\">4</span>)              │           <span style=\"color: #00af00; text-decoration-color: #00af00\">260</span> │\n",
       "└─────────────────────────────────┴────────────────────────┴───────────────┘\n",
       "</pre>\n"
      ],
      "text/plain": [
       "┏━━━━━━━━━━━━━━━━━━━━━━━━━━━━━━━━━┳━━━━━━━━━━━━━━━━━━━━━━━━┳━━━━━━━━━━━━━━━┓\n",
       "┃\u001b[1m \u001b[0m\u001b[1mLayer (type)                   \u001b[0m\u001b[1m \u001b[0m┃\u001b[1m \u001b[0m\u001b[1mOutput Shape          \u001b[0m\u001b[1m \u001b[0m┃\u001b[1m \u001b[0m\u001b[1m      Param #\u001b[0m\u001b[1m \u001b[0m┃\n",
       "┡━━━━━━━━━━━━━━━━━━━━━━━━━━━━━━━━━╇━━━━━━━━━━━━━━━━━━━━━━━━╇━━━━━━━━━━━━━━━┩\n",
       "│ conv1d (\u001b[38;5;33mConv1D\u001b[0m)                 │ (\u001b[38;5;45mNone\u001b[0m, \u001b[38;5;34m64\u001b[0m, \u001b[38;5;34m20\u001b[0m)         │           \u001b[38;5;34m860\u001b[0m │\n",
       "├─────────────────────────────────┼────────────────────────┼───────────────┤\n",
       "│ batch_normalization             │ (\u001b[38;5;45mNone\u001b[0m, \u001b[38;5;34m64\u001b[0m, \u001b[38;5;34m20\u001b[0m)         │            \u001b[38;5;34m80\u001b[0m │\n",
       "│ (\u001b[38;5;33mBatchNormalization\u001b[0m)            │                        │               │\n",
       "├─────────────────────────────────┼────────────────────────┼───────────────┤\n",
       "│ activation (\u001b[38;5;33mActivation\u001b[0m)         │ (\u001b[38;5;45mNone\u001b[0m, \u001b[38;5;34m64\u001b[0m, \u001b[38;5;34m20\u001b[0m)         │             \u001b[38;5;34m0\u001b[0m │\n",
       "├─────────────────────────────────┼────────────────────────┼───────────────┤\n",
       "│ spatial_dropout1d               │ (\u001b[38;5;45mNone\u001b[0m, \u001b[38;5;34m64\u001b[0m, \u001b[38;5;34m20\u001b[0m)         │             \u001b[38;5;34m0\u001b[0m │\n",
       "│ (\u001b[38;5;33mSpatialDropout1D\u001b[0m)              │                        │               │\n",
       "├─────────────────────────────────┼────────────────────────┼───────────────┤\n",
       "│ max_pooling1d (\u001b[38;5;33mMaxPooling1D\u001b[0m)    │ (\u001b[38;5;45mNone\u001b[0m, \u001b[38;5;34m32\u001b[0m, \u001b[38;5;34m20\u001b[0m)         │             \u001b[38;5;34m0\u001b[0m │\n",
       "├─────────────────────────────────┼────────────────────────┼───────────────┤\n",
       "│ conv1d_1 (\u001b[38;5;33mConv1D\u001b[0m)               │ (\u001b[38;5;45mNone\u001b[0m, \u001b[38;5;34m32\u001b[0m, \u001b[38;5;34m40\u001b[0m)         │         \u001b[38;5;34m4,040\u001b[0m │\n",
       "├─────────────────────────────────┼────────────────────────┼───────────────┤\n",
       "│ batch_normalization_1           │ (\u001b[38;5;45mNone\u001b[0m, \u001b[38;5;34m32\u001b[0m, \u001b[38;5;34m40\u001b[0m)         │           \u001b[38;5;34m160\u001b[0m │\n",
       "│ (\u001b[38;5;33mBatchNormalization\u001b[0m)            │                        │               │\n",
       "├─────────────────────────────────┼────────────────────────┼───────────────┤\n",
       "│ activation_1 (\u001b[38;5;33mActivation\u001b[0m)       │ (\u001b[38;5;45mNone\u001b[0m, \u001b[38;5;34m32\u001b[0m, \u001b[38;5;34m40\u001b[0m)         │             \u001b[38;5;34m0\u001b[0m │\n",
       "├─────────────────────────────────┼────────────────────────┼───────────────┤\n",
       "│ spatial_dropout1d_1             │ (\u001b[38;5;45mNone\u001b[0m, \u001b[38;5;34m32\u001b[0m, \u001b[38;5;34m40\u001b[0m)         │             \u001b[38;5;34m0\u001b[0m │\n",
       "│ (\u001b[38;5;33mSpatialDropout1D\u001b[0m)              │                        │               │\n",
       "├─────────────────────────────────┼────────────────────────┼───────────────┤\n",
       "│ max_pooling1d_1 (\u001b[38;5;33mMaxPooling1D\u001b[0m)  │ (\u001b[38;5;45mNone\u001b[0m, \u001b[38;5;34m16\u001b[0m, \u001b[38;5;34m40\u001b[0m)         │             \u001b[38;5;34m0\u001b[0m │\n",
       "├─────────────────────────────────┼────────────────────────┼───────────────┤\n",
       "│ conv1d_2 (\u001b[38;5;33mConv1D\u001b[0m)               │ (\u001b[38;5;45mNone\u001b[0m, \u001b[38;5;34m16\u001b[0m, \u001b[38;5;34m20\u001b[0m)         │         \u001b[38;5;34m2,420\u001b[0m │\n",
       "├─────────────────────────────────┼────────────────────────┼───────────────┤\n",
       "│ batch_normalization_2           │ (\u001b[38;5;45mNone\u001b[0m, \u001b[38;5;34m16\u001b[0m, \u001b[38;5;34m20\u001b[0m)         │            \u001b[38;5;34m80\u001b[0m │\n",
       "│ (\u001b[38;5;33mBatchNormalization\u001b[0m)            │                        │               │\n",
       "├─────────────────────────────────┼────────────────────────┼───────────────┤\n",
       "│ activation_2 (\u001b[38;5;33mActivation\u001b[0m)       │ (\u001b[38;5;45mNone\u001b[0m, \u001b[38;5;34m16\u001b[0m, \u001b[38;5;34m20\u001b[0m)         │             \u001b[38;5;34m0\u001b[0m │\n",
       "├─────────────────────────────────┼────────────────────────┼───────────────┤\n",
       "│ global_average_pooling1d        │ (\u001b[38;5;45mNone\u001b[0m, \u001b[38;5;34m20\u001b[0m)             │             \u001b[38;5;34m0\u001b[0m │\n",
       "│ (\u001b[38;5;33mGlobalAveragePooling1D\u001b[0m)        │                        │               │\n",
       "├─────────────────────────────────┼────────────────────────┼───────────────┤\n",
       "│ dense (\u001b[38;5;33mDense\u001b[0m)                   │ (\u001b[38;5;45mNone\u001b[0m, \u001b[38;5;34m64\u001b[0m)             │         \u001b[38;5;34m1,344\u001b[0m │\n",
       "├─────────────────────────────────┼────────────────────────┼───────────────┤\n",
       "│ batch_normalization_3           │ (\u001b[38;5;45mNone\u001b[0m, \u001b[38;5;34m64\u001b[0m)             │           \u001b[38;5;34m256\u001b[0m │\n",
       "│ (\u001b[38;5;33mBatchNormalization\u001b[0m)            │                        │               │\n",
       "├─────────────────────────────────┼────────────────────────┼───────────────┤\n",
       "│ activation_3 (\u001b[38;5;33mActivation\u001b[0m)       │ (\u001b[38;5;45mNone\u001b[0m, \u001b[38;5;34m64\u001b[0m)             │             \u001b[38;5;34m0\u001b[0m │\n",
       "├─────────────────────────────────┼────────────────────────┼───────────────┤\n",
       "│ dropout (\u001b[38;5;33mDropout\u001b[0m)               │ (\u001b[38;5;45mNone\u001b[0m, \u001b[38;5;34m64\u001b[0m)             │             \u001b[38;5;34m0\u001b[0m │\n",
       "├─────────────────────────────────┼────────────────────────┼───────────────┤\n",
       "│ dense_1 (\u001b[38;5;33mDense\u001b[0m)                 │ (\u001b[38;5;45mNone\u001b[0m, \u001b[38;5;34m4\u001b[0m)              │           \u001b[38;5;34m260\u001b[0m │\n",
       "└─────────────────────────────────┴────────────────────────┴───────────────┘\n"
      ]
     },
     "metadata": {},
     "output_type": "display_data"
    },
    {
     "data": {
      "text/html": [
       "<pre style=\"white-space:pre;overflow-x:auto;line-height:normal;font-family:Menlo,'DejaVu Sans Mono',consolas,'Courier New',monospace\"><span style=\"font-weight: bold\"> Total params: </span><span style=\"color: #00af00; text-decoration-color: #00af00\">9,500</span> (37.11 KB)\n",
       "</pre>\n"
      ],
      "text/plain": [
       "\u001b[1m Total params: \u001b[0m\u001b[38;5;34m9,500\u001b[0m (37.11 KB)\n"
      ]
     },
     "metadata": {},
     "output_type": "display_data"
    },
    {
     "data": {
      "text/html": [
       "<pre style=\"white-space:pre;overflow-x:auto;line-height:normal;font-family:Menlo,'DejaVu Sans Mono',consolas,'Courier New',monospace\"><span style=\"font-weight: bold\"> Trainable params: </span><span style=\"color: #00af00; text-decoration-color: #00af00\">9,212</span> (35.98 KB)\n",
       "</pre>\n"
      ],
      "text/plain": [
       "\u001b[1m Trainable params: \u001b[0m\u001b[38;5;34m9,212\u001b[0m (35.98 KB)\n"
      ]
     },
     "metadata": {},
     "output_type": "display_data"
    },
    {
     "data": {
      "text/html": [
       "<pre style=\"white-space:pre;overflow-x:auto;line-height:normal;font-family:Menlo,'DejaVu Sans Mono',consolas,'Courier New',monospace\"><span style=\"font-weight: bold\"> Non-trainable params: </span><span style=\"color: #00af00; text-decoration-color: #00af00\">288</span> (1.12 KB)\n",
       "</pre>\n"
      ],
      "text/plain": [
       "\u001b[1m Non-trainable params: \u001b[0m\u001b[38;5;34m288\u001b[0m (1.12 KB)\n"
      ]
     },
     "metadata": {},
     "output_type": "display_data"
    }
   ],
   "source": [
    "model = models.Sequential([\n",
    "    layers.Input(shape = (window_size, n_channels)),\n",
    "\n",
    "    layers.Conv1D(20, kernel_size = 7, padding = 'same', kernel_regularizer = regularizers.l2(1e-4)), # 32\n",
    "    layers.BatchNormalization(),\n",
    "    layers.Activation('relu'),\n",
    "    layers.SpatialDropout1D(0.2),\n",
    "    layers.MaxPooling1D(2),\n",
    "\n",
    "    layers.Conv1D(40, kernel_size = 5, padding = 'same', kernel_regularizer = regularizers.l2(1e-4)), # 64\n",
    "    layers.BatchNormalization(),\n",
    "    layers.Activation('relu'),\n",
    "    layers.SpatialDropout1D(0.25),\n",
    "    layers.MaxPooling1D(2),\n",
    "\n",
    "    layers.Conv1D(20, kernel_size = 3, padding = 'same', kernel_regularizer = regularizers.l2(1e-4)), # 32\n",
    "    layers.BatchNormalization(),\n",
    "    layers.Activation('relu'),\n",
    "    layers.GlobalAveragePooling1D(),\n",
    "\n",
    "    layers.Dense(64, kernel_regularizer = regularizers.l2(1e-4)), # 256\n",
    "    layers.BatchNormalization(),\n",
    "    layers.Activation('relu'),\n",
    "    layers.Dropout(0.3),\n",
    "\n",
    "    #layers.Dense(128, kernel_regularizer = regularizers.l2(1e-4)),\n",
    "    #layers.BatchNormalization(),\n",
    "    #layers.Activation('relu'),\n",
    "    #layers.Dropout(0.2),\n",
    "\n",
    "    layers.Dense(num_classes, activation = 'softmax')\n",
    "])\n",
    "\n",
    "model.compile(\n",
    "    optimizer = tf.keras.optimizers.Adam(learning_rate = 1e-3),\n",
    "    loss = 'categorical_crossentropy',\n",
    "    metrics = ['accuracy']\n",
    ")\n",
    "\n",
    "model.summary()"
   ]
  },
  {
   "cell_type": "markdown",
   "id": "a4334fcc-4851-41d3-b355-64be6c004292",
   "metadata": {},
   "source": [
    "## model training"
   ]
  },
  {
   "cell_type": "code",
   "execution_count": 20,
   "id": "af35283d-1bd9-4be9-be59-7ae757c123d1",
   "metadata": {},
   "outputs": [],
   "source": [
    "# callbacks\n",
    "es = callbacks.EarlyStopping (monitor = 'val_loss', patience = 5, restore_best_weights = True)\n",
    "rl = callbacks.ReduceLROnPlateau(monitor = 'val_loss', factor = 0.5, patience = 5, min_lr = 1e-6)"
   ]
  },
  {
   "cell_type": "code",
   "execution_count": 21,
   "id": "dab29a3b-de04-4d82-80c6-73cf8a57cd44",
   "metadata": {},
   "outputs": [
    {
     "name": "stdout",
     "output_type": "stream",
     "text": [
      "Epoch 1/60\n",
      "\u001b[1m51/51\u001b[0m \u001b[32m━━━━━━━━━━━━━━━━━━━━\u001b[0m\u001b[37m\u001b[0m \u001b[1m1s\u001b[0m 7ms/step - accuracy: 0.3927 - loss: 1.4193 - val_accuracy: 0.4528 - val_loss: 1.2417 - learning_rate: 0.0010\n",
      "Epoch 2/60\n",
      "\u001b[1m51/51\u001b[0m \u001b[32m━━━━━━━━━━━━━━━━━━━━\u001b[0m\u001b[37m\u001b[0m \u001b[1m0s\u001b[0m 4ms/step - accuracy: 0.5400 - loss: 1.0484 - val_accuracy: 0.6306 - val_loss: 1.0584 - learning_rate: 0.0010\n",
      "Epoch 3/60\n",
      "\u001b[1m51/51\u001b[0m \u001b[32m━━━━━━━━━━━━━━━━━━━━\u001b[0m\u001b[37m\u001b[0m \u001b[1m0s\u001b[0m 5ms/step - accuracy: 0.6271 - loss: 0.8643 - val_accuracy: 0.6972 - val_loss: 0.8649 - learning_rate: 0.0010\n",
      "Epoch 4/60\n",
      "\u001b[1m51/51\u001b[0m \u001b[32m━━━━━━━━━━━━━━━━━━━━\u001b[0m\u001b[37m\u001b[0m \u001b[1m0s\u001b[0m 5ms/step - accuracy: 0.6924 - loss: 0.6964 - val_accuracy: 0.7528 - val_loss: 0.6580 - learning_rate: 0.0010\n",
      "Epoch 5/60\n",
      "\u001b[1m51/51\u001b[0m \u001b[32m━━━━━━━━━━━━━━━━━━━━\u001b[0m\u001b[37m\u001b[0m \u001b[1m0s\u001b[0m 5ms/step - accuracy: 0.7124 - loss: 0.6342 - val_accuracy: 0.7944 - val_loss: 0.5354 - learning_rate: 0.0010\n",
      "Epoch 6/60\n",
      "\u001b[1m51/51\u001b[0m \u001b[32m━━━━━━━━━━━━━━━━━━━━\u001b[0m\u001b[37m\u001b[0m \u001b[1m0s\u001b[0m 5ms/step - accuracy: 0.7461 - loss: 0.5650 - val_accuracy: 0.8444 - val_loss: 0.4595 - learning_rate: 0.0010\n",
      "Epoch 7/60\n",
      "\u001b[1m51/51\u001b[0m \u001b[32m━━━━━━━━━━━━━━━━━━━━\u001b[0m\u001b[37m\u001b[0m \u001b[1m0s\u001b[0m 6ms/step - accuracy: 0.7565 - loss: 0.5225 - val_accuracy: 0.8222 - val_loss: 0.4157 - learning_rate: 0.0010\n",
      "Epoch 8/60\n",
      "\u001b[1m51/51\u001b[0m \u001b[32m━━━━━━━━━━━━━━━━━━━━\u001b[0m\u001b[37m\u001b[0m \u001b[1m0s\u001b[0m 5ms/step - accuracy: 0.7651 - loss: 0.5046 - val_accuracy: 0.8417 - val_loss: 0.3810 - learning_rate: 0.0010\n",
      "Epoch 9/60\n",
      "\u001b[1m51/51\u001b[0m \u001b[32m━━━━━━━━━━━━━━━━━━━━\u001b[0m\u001b[37m\u001b[0m \u001b[1m0s\u001b[0m 5ms/step - accuracy: 0.7815 - loss: 0.4649 - val_accuracy: 0.8667 - val_loss: 0.3656 - learning_rate: 0.0010\n",
      "Epoch 10/60\n",
      "\u001b[1m51/51\u001b[0m \u001b[32m━━━━━━━━━━━━━━━━━━━━\u001b[0m\u001b[37m\u001b[0m \u001b[1m0s\u001b[0m 5ms/step - accuracy: 0.7942 - loss: 0.4406 - val_accuracy: 0.8806 - val_loss: 0.3536 - learning_rate: 0.0010\n",
      "Epoch 11/60\n",
      "\u001b[1m51/51\u001b[0m \u001b[32m━━━━━━━━━━━━━━━━━━━━\u001b[0m\u001b[37m\u001b[0m \u001b[1m0s\u001b[0m 5ms/step - accuracy: 0.7963 - loss: 0.4263 - val_accuracy: 0.8139 - val_loss: 0.3496 - learning_rate: 0.0010\n",
      "Epoch 12/60\n",
      "\u001b[1m51/51\u001b[0m \u001b[32m━━━━━━━━━━━━━━━━━━━━\u001b[0m\u001b[37m\u001b[0m \u001b[1m0s\u001b[0m 5ms/step - accuracy: 0.8176 - loss: 0.4101 - val_accuracy: 0.8722 - val_loss: 0.3280 - learning_rate: 0.0010\n",
      "Epoch 13/60\n",
      "\u001b[1m51/51\u001b[0m \u001b[32m━━━━━━━━━━━━━━━━━━━━\u001b[0m\u001b[37m\u001b[0m \u001b[1m0s\u001b[0m 5ms/step - accuracy: 0.8143 - loss: 0.4044 - val_accuracy: 0.8722 - val_loss: 0.3258 - learning_rate: 0.0010\n",
      "Epoch 14/60\n",
      "\u001b[1m51/51\u001b[0m \u001b[32m━━━━━━━━━━━━━━━━━━━━\u001b[0m\u001b[37m\u001b[0m \u001b[1m0s\u001b[0m 5ms/step - accuracy: 0.8229 - loss: 0.3784 - val_accuracy: 0.9139 - val_loss: 0.3035 - learning_rate: 0.0010\n",
      "Epoch 15/60\n",
      "\u001b[1m51/51\u001b[0m \u001b[32m━━━━━━━━━━━━━━━━━━━━\u001b[0m\u001b[37m\u001b[0m \u001b[1m0s\u001b[0m 5ms/step - accuracy: 0.8250 - loss: 0.3757 - val_accuracy: 0.9194 - val_loss: 0.2914 - learning_rate: 0.0010\n",
      "Epoch 16/60\n",
      "\u001b[1m51/51\u001b[0m \u001b[32m━━━━━━━━━━━━━━━━━━━━\u001b[0m\u001b[37m\u001b[0m \u001b[1m0s\u001b[0m 5ms/step - accuracy: 0.8382 - loss: 0.3526 - val_accuracy: 0.9389 - val_loss: 0.2771 - learning_rate: 0.0010\n",
      "Epoch 17/60\n",
      "\u001b[1m51/51\u001b[0m \u001b[32m━━━━━━━━━━━━━━━━━━━━\u001b[0m\u001b[37m\u001b[0m \u001b[1m0s\u001b[0m 5ms/step - accuracy: 0.8510 - loss: 0.3426 - val_accuracy: 0.9417 - val_loss: 0.2634 - learning_rate: 0.0010\n",
      "Epoch 18/60\n",
      "\u001b[1m51/51\u001b[0m \u001b[32m━━━━━━━━━━━━━━━━━━━━\u001b[0m\u001b[37m\u001b[0m \u001b[1m0s\u001b[0m 5ms/step - accuracy: 0.8500 - loss: 0.3307 - val_accuracy: 0.9056 - val_loss: 0.2519 - learning_rate: 0.0010\n",
      "Epoch 19/60\n",
      "\u001b[1m51/51\u001b[0m \u001b[32m━━━━━━━━━━━━━━━━━━━━\u001b[0m\u001b[37m\u001b[0m \u001b[1m0s\u001b[0m 5ms/step - accuracy: 0.8476 - loss: 0.3344 - val_accuracy: 0.9167 - val_loss: 0.2295 - learning_rate: 0.0010\n",
      "Epoch 20/60\n",
      "\u001b[1m51/51\u001b[0m \u001b[32m━━━━━━━━━━━━━━━━━━━━\u001b[0m\u001b[37m\u001b[0m \u001b[1m0s\u001b[0m 5ms/step - accuracy: 0.8623 - loss: 0.3262 - val_accuracy: 0.9444 - val_loss: 0.2097 - learning_rate: 0.0010\n",
      "Epoch 21/60\n",
      "\u001b[1m51/51\u001b[0m \u001b[32m━━━━━━━━━━━━━━━━━━━━\u001b[0m\u001b[37m\u001b[0m \u001b[1m0s\u001b[0m 5ms/step - accuracy: 0.8679 - loss: 0.3078 - val_accuracy: 0.9111 - val_loss: 0.2052 - learning_rate: 0.0010\n",
      "Epoch 22/60\n",
      "\u001b[1m51/51\u001b[0m \u001b[32m━━━━━━━━━━━━━━━━━━━━\u001b[0m\u001b[37m\u001b[0m \u001b[1m0s\u001b[0m 5ms/step - accuracy: 0.8742 - loss: 0.3075 - val_accuracy: 0.9222 - val_loss: 0.2022 - learning_rate: 0.0010\n",
      "Epoch 23/60\n",
      "\u001b[1m51/51\u001b[0m \u001b[32m━━━━━━━━━━━━━━━━━━━━\u001b[0m\u001b[37m\u001b[0m \u001b[1m0s\u001b[0m 5ms/step - accuracy: 0.8718 - loss: 0.3072 - val_accuracy: 0.9556 - val_loss: 0.1785 - learning_rate: 0.0010\n",
      "Epoch 24/60\n",
      "\u001b[1m51/51\u001b[0m \u001b[32m━━━━━━━━━━━━━━━━━━━━\u001b[0m\u001b[37m\u001b[0m \u001b[1m0s\u001b[0m 5ms/step - accuracy: 0.8827 - loss: 0.2845 - val_accuracy: 0.9639 - val_loss: 0.1712 - learning_rate: 0.0010\n",
      "Epoch 25/60\n",
      "\u001b[1m51/51\u001b[0m \u001b[32m━━━━━━━━━━━━━━━━━━━━\u001b[0m\u001b[37m\u001b[0m \u001b[1m0s\u001b[0m 5ms/step - accuracy: 0.8829 - loss: 0.2674 - val_accuracy: 0.9472 - val_loss: 0.1828 - learning_rate: 0.0010\n",
      "Epoch 26/60\n",
      "\u001b[1m51/51\u001b[0m \u001b[32m━━━━━━━━━━━━━━━━━━━━\u001b[0m\u001b[37m\u001b[0m \u001b[1m0s\u001b[0m 5ms/step - accuracy: 0.8901 - loss: 0.2664 - val_accuracy: 0.9694 - val_loss: 0.1628 - learning_rate: 0.0010\n",
      "Epoch 27/60\n",
      "\u001b[1m51/51\u001b[0m \u001b[32m━━━━━━━━━━━━━━━━━━━━\u001b[0m\u001b[37m\u001b[0m \u001b[1m0s\u001b[0m 5ms/step - accuracy: 0.8915 - loss: 0.2542 - val_accuracy: 0.9639 - val_loss: 0.1511 - learning_rate: 0.0010\n",
      "Epoch 28/60\n",
      "\u001b[1m51/51\u001b[0m \u001b[32m━━━━━━━━━━━━━━━━━━━━\u001b[0m\u001b[37m\u001b[0m \u001b[1m0s\u001b[0m 5ms/step - accuracy: 0.9027 - loss: 0.2289 - val_accuracy: 0.9694 - val_loss: 0.1396 - learning_rate: 0.0010\n",
      "Epoch 29/60\n",
      "\u001b[1m51/51\u001b[0m \u001b[32m━━━━━━━━━━━━━━━━━━━━\u001b[0m\u001b[37m\u001b[0m \u001b[1m0s\u001b[0m 6ms/step - accuracy: 0.9183 - loss: 0.2206 - val_accuracy: 0.9833 - val_loss: 0.1360 - learning_rate: 0.0010\n",
      "Epoch 30/60\n",
      "\u001b[1m51/51\u001b[0m \u001b[32m━━━━━━━━━━━━━━━━━━━━\u001b[0m\u001b[37m\u001b[0m \u001b[1m0s\u001b[0m 5ms/step - accuracy: 0.9163 - loss: 0.2160 - val_accuracy: 0.9417 - val_loss: 0.1378 - learning_rate: 0.0010\n",
      "Epoch 31/60\n",
      "\u001b[1m51/51\u001b[0m \u001b[32m━━━━━━━━━━━━━━━━━━━━\u001b[0m\u001b[37m\u001b[0m \u001b[1m0s\u001b[0m 5ms/step - accuracy: 0.9192 - loss: 0.2075 - val_accuracy: 0.9778 - val_loss: 0.1312 - learning_rate: 0.0010\n",
      "Epoch 32/60\n",
      "\u001b[1m51/51\u001b[0m \u001b[32m━━━━━━━━━━━━━━━━━━━━\u001b[0m\u001b[37m\u001b[0m \u001b[1m0s\u001b[0m 5ms/step - accuracy: 0.9251 - loss: 0.2006 - val_accuracy: 0.9833 - val_loss: 0.1095 - learning_rate: 0.0010\n",
      "Epoch 33/60\n",
      "\u001b[1m51/51\u001b[0m \u001b[32m━━━━━━━━━━━━━━━━━━━━\u001b[0m\u001b[37m\u001b[0m \u001b[1m0s\u001b[0m 5ms/step - accuracy: 0.9158 - loss: 0.2114 - val_accuracy: 0.9889 - val_loss: 0.1120 - learning_rate: 0.0010\n",
      "Epoch 34/60\n",
      "\u001b[1m51/51\u001b[0m \u001b[32m━━━━━━━━━━━━━━━━━━━━\u001b[0m\u001b[37m\u001b[0m \u001b[1m0s\u001b[0m 5ms/step - accuracy: 0.9309 - loss: 0.1744 - val_accuracy: 0.9861 - val_loss: 0.1070 - learning_rate: 0.0010\n",
      "Epoch 35/60\n",
      "\u001b[1m51/51\u001b[0m \u001b[32m━━━━━━━━━━━━━━━━━━━━\u001b[0m\u001b[37m\u001b[0m \u001b[1m0s\u001b[0m 5ms/step - accuracy: 0.9254 - loss: 0.1902 - val_accuracy: 0.9889 - val_loss: 0.0986 - learning_rate: 0.0010\n",
      "Epoch 36/60\n",
      "\u001b[1m51/51\u001b[0m \u001b[32m━━━━━━━━━━━━━━━━━━━━\u001b[0m\u001b[37m\u001b[0m \u001b[1m0s\u001b[0m 5ms/step - accuracy: 0.9262 - loss: 0.1921 - val_accuracy: 0.9917 - val_loss: 0.0900 - learning_rate: 0.0010\n",
      "Epoch 37/60\n",
      "\u001b[1m51/51\u001b[0m \u001b[32m━━━━━━━━━━━━━━━━━━━━\u001b[0m\u001b[37m\u001b[0m \u001b[1m0s\u001b[0m 5ms/step - accuracy: 0.9219 - loss: 0.1961 - val_accuracy: 0.9889 - val_loss: 0.0853 - learning_rate: 0.0010\n",
      "Epoch 38/60\n",
      "\u001b[1m51/51\u001b[0m \u001b[32m━━━━━━━━━━━━━━━━━━━━\u001b[0m\u001b[37m\u001b[0m \u001b[1m0s\u001b[0m 5ms/step - accuracy: 0.9358 - loss: 0.1771 - val_accuracy: 0.9889 - val_loss: 0.0778 - learning_rate: 0.0010\n",
      "Epoch 39/60\n",
      "\u001b[1m51/51\u001b[0m \u001b[32m━━━━━━━━━━━━━━━━━━━━\u001b[0m\u001b[37m\u001b[0m \u001b[1m0s\u001b[0m 5ms/step - accuracy: 0.9391 - loss: 0.1875 - val_accuracy: 0.9917 - val_loss: 0.0752 - learning_rate: 0.0010\n",
      "Epoch 40/60\n",
      "\u001b[1m51/51\u001b[0m \u001b[32m━━━━━━━━━━━━━━━━━━━━\u001b[0m\u001b[37m\u001b[0m \u001b[1m0s\u001b[0m 6ms/step - accuracy: 0.9497 - loss: 0.1590 - val_accuracy: 0.9972 - val_loss: 0.0737 - learning_rate: 0.0010\n",
      "Epoch 41/60\n",
      "\u001b[1m51/51\u001b[0m \u001b[32m━━━━━━━━━━━━━━━━━━━━\u001b[0m\u001b[37m\u001b[0m \u001b[1m0s\u001b[0m 5ms/step - accuracy: 0.9390 - loss: 0.1613 - val_accuracy: 0.9972 - val_loss: 0.0613 - learning_rate: 0.0010\n",
      "Epoch 42/60\n",
      "\u001b[1m51/51\u001b[0m \u001b[32m━━━━━━━━━━━━━━━━━━━━\u001b[0m\u001b[37m\u001b[0m \u001b[1m0s\u001b[0m 5ms/step - accuracy: 0.9547 - loss: 0.1402 - val_accuracy: 0.9917 - val_loss: 0.0569 - learning_rate: 0.0010\n",
      "Epoch 43/60\n",
      "\u001b[1m51/51\u001b[0m \u001b[32m━━━━━━━━━━━━━━━━━━━━\u001b[0m\u001b[37m\u001b[0m \u001b[1m0s\u001b[0m 5ms/step - accuracy: 0.9402 - loss: 0.1749 - val_accuracy: 0.9917 - val_loss: 0.0559 - learning_rate: 0.0010\n",
      "Epoch 44/60\n",
      "\u001b[1m51/51\u001b[0m \u001b[32m━━━━━━━━━━━━━━━━━━━━\u001b[0m\u001b[37m\u001b[0m \u001b[1m0s\u001b[0m 5ms/step - accuracy: 0.9468 - loss: 0.1607 - val_accuracy: 0.9972 - val_loss: 0.0472 - learning_rate: 0.0010\n",
      "Epoch 45/60\n",
      "\u001b[1m51/51\u001b[0m \u001b[32m━━━━━━━━━━━━━━━━━━━━\u001b[0m\u001b[37m\u001b[0m \u001b[1m0s\u001b[0m 5ms/step - accuracy: 0.9527 - loss: 0.1374 - val_accuracy: 0.9694 - val_loss: 0.0860 - learning_rate: 0.0010\n",
      "Epoch 46/60\n",
      "\u001b[1m51/51\u001b[0m \u001b[32m━━━━━━━━━━━━━━━━━━━━\u001b[0m\u001b[37m\u001b[0m \u001b[1m0s\u001b[0m 5ms/step - accuracy: 0.9537 - loss: 0.1478 - val_accuracy: 0.9944 - val_loss: 0.0543 - learning_rate: 0.0010\n",
      "Epoch 47/60\n",
      "\u001b[1m51/51\u001b[0m \u001b[32m━━━━━━━━━━━━━━━━━━━━\u001b[0m\u001b[37m\u001b[0m \u001b[1m0s\u001b[0m 5ms/step - accuracy: 0.9530 - loss: 0.1445 - val_accuracy: 0.9944 - val_loss: 0.0436 - learning_rate: 0.0010\n",
      "Epoch 48/60\n",
      "\u001b[1m51/51\u001b[0m \u001b[32m━━━━━━━━━━━━━━━━━━━━\u001b[0m\u001b[37m\u001b[0m \u001b[1m0s\u001b[0m 5ms/step - accuracy: 0.9473 - loss: 0.1637 - val_accuracy: 0.9972 - val_loss: 0.0480 - learning_rate: 0.0010\n",
      "Epoch 49/60\n",
      "\u001b[1m51/51\u001b[0m \u001b[32m━━━━━━━━━━━━━━━━━━━━\u001b[0m\u001b[37m\u001b[0m \u001b[1m0s\u001b[0m 5ms/step - accuracy: 0.9507 - loss: 0.1356 - val_accuracy: 0.9972 - val_loss: 0.0418 - learning_rate: 0.0010\n",
      "Epoch 50/60\n",
      "\u001b[1m51/51\u001b[0m \u001b[32m━━━━━━━━━━━━━━━━━━━━\u001b[0m\u001b[37m\u001b[0m \u001b[1m0s\u001b[0m 6ms/step - accuracy: 0.9582 - loss: 0.1275 - val_accuracy: 1.0000 - val_loss: 0.0365 - learning_rate: 0.0010\n",
      "Epoch 51/60\n",
      "\u001b[1m51/51\u001b[0m \u001b[32m━━━━━━━━━━━━━━━━━━━━\u001b[0m\u001b[37m\u001b[0m \u001b[1m0s\u001b[0m 6ms/step - accuracy: 0.9489 - loss: 0.1339 - val_accuracy: 0.9944 - val_loss: 0.0450 - learning_rate: 0.0010\n",
      "Epoch 52/60\n",
      "\u001b[1m51/51\u001b[0m \u001b[32m━━━━━━━━━━━━━━━━━━━━\u001b[0m\u001b[37m\u001b[0m \u001b[1m0s\u001b[0m 5ms/step - accuracy: 0.9655 - loss: 0.1101 - val_accuracy: 1.0000 - val_loss: 0.0375 - learning_rate: 0.0010\n",
      "Epoch 53/60\n",
      "\u001b[1m51/51\u001b[0m \u001b[32m━━━━━━━━━━━━━━━━━━━━\u001b[0m\u001b[37m\u001b[0m \u001b[1m0s\u001b[0m 5ms/step - accuracy: 0.9553 - loss: 0.1378 - val_accuracy: 1.0000 - val_loss: 0.0326 - learning_rate: 0.0010\n",
      "Epoch 54/60\n",
      "\u001b[1m51/51\u001b[0m \u001b[32m━━━━━━━━━━━━━━━━━━━━\u001b[0m\u001b[37m\u001b[0m \u001b[1m0s\u001b[0m 5ms/step - accuracy: 0.9553 - loss: 0.1373 - val_accuracy: 0.9944 - val_loss: 0.0411 - learning_rate: 0.0010\n",
      "Epoch 55/60\n",
      "\u001b[1m51/51\u001b[0m \u001b[32m━━━━━━━━━━━━━━━━━━━━\u001b[0m\u001b[37m\u001b[0m \u001b[1m0s\u001b[0m 5ms/step - accuracy: 0.9467 - loss: 0.1552 - val_accuracy: 1.0000 - val_loss: 0.0319 - learning_rate: 0.0010\n",
      "Epoch 56/60\n",
      "\u001b[1m51/51\u001b[0m \u001b[32m━━━━━━━━━━━━━━━━━━━━\u001b[0m\u001b[37m\u001b[0m \u001b[1m0s\u001b[0m 5ms/step - accuracy: 0.9692 - loss: 0.1032 - val_accuracy: 0.9972 - val_loss: 0.0310 - learning_rate: 0.0010\n",
      "Epoch 57/60\n",
      "\u001b[1m51/51\u001b[0m \u001b[32m━━━━━━━━━━━━━━━━━━━━\u001b[0m\u001b[37m\u001b[0m \u001b[1m0s\u001b[0m 5ms/step - accuracy: 0.9680 - loss: 0.1077 - val_accuracy: 1.0000 - val_loss: 0.0309 - learning_rate: 0.0010\n",
      "Epoch 58/60\n",
      "\u001b[1m51/51\u001b[0m \u001b[32m━━━━━━━━━━━━━━━━━━━━\u001b[0m\u001b[37m\u001b[0m \u001b[1m0s\u001b[0m 5ms/step - accuracy: 0.9599 - loss: 0.1157 - val_accuracy: 1.0000 - val_loss: 0.0347 - learning_rate: 0.0010\n",
      "Epoch 59/60\n",
      "\u001b[1m51/51\u001b[0m \u001b[32m━━━━━━━━━━━━━━━━━━━━\u001b[0m\u001b[37m\u001b[0m \u001b[1m0s\u001b[0m 5ms/step - accuracy: 0.9706 - loss: 0.1009 - val_accuracy: 0.9972 - val_loss: 0.0330 - learning_rate: 0.0010\n",
      "Epoch 60/60\n",
      "\u001b[1m51/51\u001b[0m \u001b[32m━━━━━━━━━━━━━━━━━━━━\u001b[0m\u001b[37m\u001b[0m \u001b[1m0s\u001b[0m 5ms/step - accuracy: 0.9737 - loss: 0.0932 - val_accuracy: 0.9944 - val_loss: 0.0378 - learning_rate: 0.0010\n"
     ]
    }
   ],
   "source": [
    "history = model.fit(\n",
    "    X_train_scaled, y_train_cat,\n",
    "    validation_data = (X_val_scaled, y_val_cat),\n",
    "    epochs = epochs,\n",
    "    batch_size = batch_size,\n",
    "    callbacks = [es,rl]\n",
    ")"
   ]
  },
  {
   "cell_type": "markdown",
   "id": "5d63e8cf-6bd8-41b0-98d5-ad669cde3729",
   "metadata": {},
   "source": [
    "## evaluation"
   ]
  },
  {
   "cell_type": "code",
   "execution_count": 23,
   "id": "7b65cdc3-c0e7-41d6-802d-39b431a9b321",
   "metadata": {},
   "outputs": [
    {
     "data": {
      "image/png": "[encoded data removed]",
      "text/plain": [
       "<Figure size 1200x400 with 2 Axes>"
      ]
     },
     "metadata": {},
     "output_type": "display_data"
    }
   ],
   "source": [
    "# training curves\n",
    "plt.figure(figsize=(12,4))\n",
    "plt.subplot(1,2,1)\n",
    "plt.plot(history.history['loss'], label='train_loss')\n",
    "plt.plot(history.history['val_loss'], label='val_loss')\n",
    "plt.legend(); plt.title('Loss')\n",
    "plt.subplot(1,2,2)\n",
    "plt.plot(history.history['accuracy'], label='train_acc')\n",
    "plt.plot(history.history['val_accuracy'], label='val_acc')\n",
    "plt.legend(); plt.title('Accuracy')\n",
    "plt.show()"
   ]
  },
  {
   "cell_type": "code",
   "execution_count": 24,
   "id": "cb99aa1d-31d1-4abb-92f3-bcc087ab3b1b",
   "metadata": {},
   "outputs": [
    {
     "name": "stdout",
     "output_type": "stream",
     "text": [
      "test loss:  0.0352, test accuracy: 0.9933\n"
     ]
    }
   ],
   "source": [
    "# eval\n",
    "test_loss, test_acc = model.evaluate(X_test_scaled, y_test_cat, verbose = 0)\n",
    "print(f'test loss: {test_loss: .4f}, test accuracy:{test_acc: .4f}')"
   ]
  },
  {
   "cell_type": "code",
   "execution_count": 25,
   "id": "30fe017b-19fb-4d9a-901f-1ae1f9aa5292",
   "metadata": {},
   "outputs": [
    {
     "name": "stdout",
     "output_type": "stream",
     "text": [
      "\u001b[1m29/29\u001b[0m \u001b[32m━━━━━━━━━━━━━━━━━━━━\u001b[0m\u001b[37m\u001b[0m \u001b[1m0s\u001b[0m 3ms/step\n"
     ]
    }
   ],
   "source": [
    "# predictions\n",
    "y_pred_probs = model.predict(X_test_scaled)\n",
    "y_pred = np.argmax(y_pred_probs, axis = 1)"
   ]
  },
  {
   "cell_type": "code",
   "execution_count": 26,
   "id": "602974bf-5b07-4804-a5f4-2ef3a7574f1a",
   "metadata": {},
   "outputs": [
    {
     "name": "stdout",
     "output_type": "stream",
     "text": [
      "classification report:\n",
      "              precision    recall  f1-score   support\n",
      "\n",
      "           0       1.00      1.00      1.00       225\n",
      "           1       0.99      1.00      0.99       225\n",
      "           2       0.99      0.98      0.99       225\n",
      "           3       0.99      1.00      0.99       225\n",
      "\n",
      "    accuracy                           0.99       900\n",
      "   macro avg       0.99      0.99      0.99       900\n",
      "weighted avg       0.99      0.99      0.99       900\n",
      "\n"
     ]
    }
   ],
   "source": [
    "# classification report\n",
    "print ('classification report:')\n",
    "print(classification_report(y_test, y_pred, target_names = [str(c) for c in classes]))"
   ]
  },
  {
   "cell_type": "code",
   "execution_count": 27,
   "id": "f4ae9fee-3bd7-4d91-bfbe-60880a825e82",
   "metadata": {},
   "outputs": [
    {
     "data": {
      "image/png": "[encoded data removed]",
      "text/plain": [
       "<Figure size 600x500 with 2 Axes>"
      ]
     },
     "metadata": {},
     "output_type": "display_data"
    }
   ],
   "source": [
    "# confusion matrix\n",
    "cm = confusion_matrix(y_test, y_pred)\n",
    "plt.figure(figsize = (6,5))\n",
    "sns.heatmap(cm, annot=True, fmt='d', cmap='Blues', xticklabels=classes, yticklabels=classes)\n",
    "plt.xlabel('predicted')\n",
    "plt.ylabel('true')\n",
    "plt.title('confusion matrix')\n",
    "plt.show()"
   ]
  },
  {
   "cell_type": "markdown",
   "id": "cf896666-2372-4a26-8e4b-65aebddfa9ea",
   "metadata": {},
   "source": [
    "### compiling and exporting model"
   ]
  },
  {
   "cell_type": "code",
   "execution_count": 29,
   "id": "95a58071-e5e4-45db-a027-b58784894206",
   "metadata": {},
   "outputs": [
    {
     "name": "stdout",
     "output_type": "stream",
     "text": [
      "Saved model -> motor_model.keras\n",
      "Saved scaler -> scaler.pkl\n",
      "Saved model_meta.json -> contains classes and window metadata\n"
     ]
    }
   ],
   "source": [
    "# Save Keras single-file model\n",
    "model.save(\"motor_model.keras\", overwrite=True)\n",
    "print(\"Saved model -> motor_model.keras\")\n",
    "\n",
    "# Save scaler used during training (you used StandardScaler in notebook)\n",
    "joblib.dump(scaler, \"scaler.pkl\")\n",
    "print(\"Saved scaler -> scaler.pkl\")\n",
    "\n",
    "# Save metadata containing the classes list and preprocessing params\n",
    "meta = {\n",
    "    \"window_size\": window_size,\n",
    "    \"step\": step,\n",
    "    \"n_channels\": n_channels,\n",
    "    \"data_columns\": data_columns,\n",
    "    \"classes\": classes\n",
    "}\n",
    "with open(\"model_meta.json\", \"w\") as f:\n",
    "    json.dump(meta, f, indent=2)\n",
    "print(\"Saved model_meta.json -> contains classes and window metadata\")"
   ]
  },
  {
   "cell_type": "code",
   "execution_count": null,
   "id": "38a5bac9-a510-4949-a0b3-e3b18e8c0821",
   "metadata": {},
   "outputs": [],
   "source": []
  }
 ],
 "metadata": {
  "kernelspec": {
   "display_name": "Python 3 (ipykernel)",
   "language": "python",
   "name": "python3"
  },
  "language_info": {
   "codemirror_mode": {
    "name": "ipython",
    "version": 3
   },
   "file_extension": ".py",
   "mimetype": "text/x-python",
   "name": "python",
   "nbconvert_exporter": "python",
   "pygments_lexer": "ipython3",
   "version": "3.12.2"
  }
 },
 "nbformat": 4,
 "nbformat_minor": 5
}

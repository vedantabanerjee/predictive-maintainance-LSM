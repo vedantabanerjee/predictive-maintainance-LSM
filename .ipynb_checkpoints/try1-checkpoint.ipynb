{
 "cells": [
  {
   "cell_type": "code",
   "execution_count": 1,
   "id": "1840018a-d383-47fe-bd1d-4b504629561a",
   "metadata": {},
   "outputs": [],
   "source": [
    "# Dependencies\n",
    "import os\n",
    "import json\n",
    "import numpy as np\n",
    "import pandas as pd\n",
    "import tensorflow as tf\n",
    "import matplotlib.pyplot as plt\n",
    "from pathlib import Path\n",
    "from collections import Counter\n",
    "from sklearn.model_selection import train_test_split\n",
    "from sklearn.preprocessing import StandardScaler\n",
    "from sklearn.metrics import classification_report, confusion_matrix\n",
    "from scipy.stats import skew, kurtosis\n",
    "from sklearn.utils import shuffle\n",
    "from tensorflow import keras\n",
    "from tensorflow.keras import layers"
   ]
  },
  {
   "cell_type": "code",
   "execution_count": 2,
   "id": "68e08ba0-4fa8-4a98-8313-d97c59a9af6a",
   "metadata": {},
   "outputs": [],
   "source": [
    "# Configuration\n",
    "FILES = {\n",
    "'OFF': 'Motor_OFF.xlsx',\n",
    "'ON': 'Motor_ON.xlsx',\n",
    "'NO_FAN': 'Motor_NO_FAN.xlsx'\n",
    "}\n",
    "\n",
    "WINDOW_SIZE = 256 # samples per window\n",
    "STEP = 128 # overlap step\n",
    "FS = 1000.0 # assumed sampling rate for spectral analysis\n",
    "LABEL_MAP = {'OFF':0, 'ON':1, 'NO_FAN':2}"
   ]
  },
  {
   "cell_type": "code",
   "execution_count": 3,
   "id": "b37167db-b5a1-4cc1-ac03-73fbac94f78e",
   "metadata": {},
   "outputs": [],
   "source": [
    "# Windowing\n",
    "\n",
    "def make_windows(arr, window_size=WINDOW_SIZE, step=STEP):\n",
    "    n = arr.shape[0]\n",
    "    windows = []\n",
    "    for start in range(0, n - window_size + 1, step):\n",
    "        w = arr[start:start+window_size].T # channels x window_size\n",
    "        windows.append(w)\n",
    "    return np.stack(windows)"
   ]
  },
  {
   "cell_type": "code",
   "execution_count": 4,
   "id": "5a733218-309f-4a03-97f8-8a29be1a198c",
   "metadata": {},
   "outputs": [
    {
     "name": "stdout",
     "output_type": "stream",
     "text": [
      "Loaded OFF: shape=(9000, 7)\n"
     ]
    },
    {
     "data": {
      "text/html": [
       "<div>\n",
       "<style scoped>\n",
       "    .dataframe tbody tr th:only-of-type {\n",
       "        vertical-align: middle;\n",
       "    }\n",
       "\n",
       "    .dataframe tbody tr th {\n",
       "        vertical-align: top;\n",
       "    }\n",
       "\n",
       "    .dataframe thead th {\n",
       "        text-align: right;\n",
       "    }\n",
       "</style>\n",
       "<table border=\"1\" class=\"dataframe\">\n",
       "  <thead>\n",
       "    <tr style=\"text-align: right;\">\n",
       "      <th></th>\n",
       "      <th>timestamp</th>\n",
       "      <th>Ax</th>\n",
       "      <th>Ay</th>\n",
       "      <th>Az</th>\n",
       "      <th>Gx</th>\n",
       "      <th>Gy</th>\n",
       "      <th>Gz</th>\n",
       "    </tr>\n",
       "  </thead>\n",
       "  <tbody>\n",
       "    <tr>\n",
       "      <th>0</th>\n",
       "      <td>2025-09-25 11:30:49</td>\n",
       "      <td>0.028792</td>\n",
       "      <td>0.081984</td>\n",
       "      <td>0.999424</td>\n",
       "      <td>-0.8050</td>\n",
       "      <td>-0.14</td>\n",
       "      <td>-0.3850</td>\n",
       "    </tr>\n",
       "    <tr>\n",
       "      <th>1</th>\n",
       "      <td>2025-09-25 11:30:49</td>\n",
       "      <td>0.028792</td>\n",
       "      <td>0.081984</td>\n",
       "      <td>0.999424</td>\n",
       "      <td>-0.8050</td>\n",
       "      <td>-0.14</td>\n",
       "      <td>-0.3850</td>\n",
       "    </tr>\n",
       "    <tr>\n",
       "      <th>2</th>\n",
       "      <td>2025-09-25 11:30:49</td>\n",
       "      <td>0.028792</td>\n",
       "      <td>0.081984</td>\n",
       "      <td>0.999424</td>\n",
       "      <td>-0.8050</td>\n",
       "      <td>-0.14</td>\n",
       "      <td>-0.3850</td>\n",
       "    </tr>\n",
       "    <tr>\n",
       "      <th>3</th>\n",
       "      <td>2025-09-25 11:30:49</td>\n",
       "      <td>0.025132</td>\n",
       "      <td>0.084424</td>\n",
       "      <td>0.999668</td>\n",
       "      <td>-0.7525</td>\n",
       "      <td>-0.21</td>\n",
       "      <td>-0.4025</td>\n",
       "    </tr>\n",
       "    <tr>\n",
       "      <th>4</th>\n",
       "      <td>2025-09-25 11:30:49</td>\n",
       "      <td>0.025132</td>\n",
       "      <td>0.084424</td>\n",
       "      <td>0.999668</td>\n",
       "      <td>-0.7525</td>\n",
       "      <td>-0.21</td>\n",
       "      <td>-0.4025</td>\n",
       "    </tr>\n",
       "  </tbody>\n",
       "</table>\n",
       "</div>"
      ],
      "text/plain": [
       "            timestamp        Ax        Ay        Az      Gx    Gy      Gz\n",
       "0 2025-09-25 11:30:49  0.028792  0.081984  0.999424 -0.8050 -0.14 -0.3850\n",
       "1 2025-09-25 11:30:49  0.028792  0.081984  0.999424 -0.8050 -0.14 -0.3850\n",
       "2 2025-09-25 11:30:49  0.028792  0.081984  0.999424 -0.8050 -0.14 -0.3850\n",
       "3 2025-09-25 11:30:49  0.025132  0.084424  0.999668 -0.7525 -0.21 -0.4025\n",
       "4 2025-09-25 11:30:49  0.025132  0.084424  0.999668 -0.7525 -0.21 -0.4025"
      ]
     },
     "metadata": {},
     "output_type": "display_data"
    },
    {
     "name": "stdout",
     "output_type": "stream",
     "text": [
      "Loaded ON: shape=(9000, 7)\n"
     ]
    },
    {
     "data": {
      "text/html": [
       "<div>\n",
       "<style scoped>\n",
       "    .dataframe tbody tr th:only-of-type {\n",
       "        vertical-align: middle;\n",
       "    }\n",
       "\n",
       "    .dataframe tbody tr th {\n",
       "        vertical-align: top;\n",
       "    }\n",
       "\n",
       "    .dataframe thead th {\n",
       "        text-align: right;\n",
       "    }\n",
       "</style>\n",
       "<table border=\"1\" class=\"dataframe\">\n",
       "  <thead>\n",
       "    <tr style=\"text-align: right;\">\n",
       "      <th></th>\n",
       "      <th>timestamp</th>\n",
       "      <th>Ax</th>\n",
       "      <th>Ay</th>\n",
       "      <th>Az</th>\n",
       "      <th>Gx</th>\n",
       "      <th>Gy</th>\n",
       "      <th>Gz</th>\n",
       "    </tr>\n",
       "  </thead>\n",
       "  <tbody>\n",
       "    <tr>\n",
       "      <th>0</th>\n",
       "      <td>2025-09-25 11:46:10</td>\n",
       "      <td>0.100284</td>\n",
       "      <td>-0.21106</td>\n",
       "      <td>0.773724</td>\n",
       "      <td>11.41</td>\n",
       "      <td>-3.2025</td>\n",
       "      <td>-0.035</td>\n",
       "    </tr>\n",
       "    <tr>\n",
       "      <th>1</th>\n",
       "      <td>2025-09-25 11:46:10</td>\n",
       "      <td>0.100284</td>\n",
       "      <td>-0.21106</td>\n",
       "      <td>0.773724</td>\n",
       "      <td>11.41</td>\n",
       "      <td>-3.2025</td>\n",
       "      <td>-0.035</td>\n",
       "    </tr>\n",
       "    <tr>\n",
       "      <th>2</th>\n",
       "      <td>2025-09-25 11:46:10</td>\n",
       "      <td>0.100284</td>\n",
       "      <td>-0.21106</td>\n",
       "      <td>0.773724</td>\n",
       "      <td>11.41</td>\n",
       "      <td>-3.2025</td>\n",
       "      <td>-0.035</td>\n",
       "    </tr>\n",
       "    <tr>\n",
       "      <th>3</th>\n",
       "      <td>2025-09-25 11:46:10</td>\n",
       "      <td>0.100284</td>\n",
       "      <td>-0.21106</td>\n",
       "      <td>0.773724</td>\n",
       "      <td>11.41</td>\n",
       "      <td>-3.2025</td>\n",
       "      <td>-0.035</td>\n",
       "    </tr>\n",
       "    <tr>\n",
       "      <th>4</th>\n",
       "      <td>2025-09-25 11:46:10</td>\n",
       "      <td>0.100284</td>\n",
       "      <td>-0.21106</td>\n",
       "      <td>0.773724</td>\n",
       "      <td>11.41</td>\n",
       "      <td>-3.2025</td>\n",
       "      <td>-0.035</td>\n",
       "    </tr>\n",
       "  </tbody>\n",
       "</table>\n",
       "</div>"
      ],
      "text/plain": [
       "            timestamp        Ax       Ay        Az     Gx      Gy     Gz\n",
       "0 2025-09-25 11:46:10  0.100284 -0.21106  0.773724  11.41 -3.2025 -0.035\n",
       "1 2025-09-25 11:46:10  0.100284 -0.21106  0.773724  11.41 -3.2025 -0.035\n",
       "2 2025-09-25 11:46:10  0.100284 -0.21106  0.773724  11.41 -3.2025 -0.035\n",
       "3 2025-09-25 11:46:10  0.100284 -0.21106  0.773724  11.41 -3.2025 -0.035\n",
       "4 2025-09-25 11:46:10  0.100284 -0.21106  0.773724  11.41 -3.2025 -0.035"
      ]
     },
     "metadata": {},
     "output_type": "display_data"
    },
    {
     "name": "stdout",
     "output_type": "stream",
     "text": [
      "Loaded NO_FAN: shape=(9000, 7)\n"
     ]
    },
    {
     "data": {
      "text/html": [
       "<div>\n",
       "<style scoped>\n",
       "    .dataframe tbody tr th:only-of-type {\n",
       "        vertical-align: middle;\n",
       "    }\n",
       "\n",
       "    .dataframe tbody tr th {\n",
       "        vertical-align: top;\n",
       "    }\n",
       "\n",
       "    .dataframe thead th {\n",
       "        text-align: right;\n",
       "    }\n",
       "</style>\n",
       "<table border=\"1\" class=\"dataframe\">\n",
       "  <thead>\n",
       "    <tr style=\"text-align: right;\">\n",
       "      <th></th>\n",
       "      <th>timestamp</th>\n",
       "      <th>Ax</th>\n",
       "      <th>Ay</th>\n",
       "      <th>Az</th>\n",
       "      <th>Gx</th>\n",
       "      <th>Gy</th>\n",
       "      <th>Gz</th>\n",
       "    </tr>\n",
       "  </thead>\n",
       "  <tbody>\n",
       "    <tr>\n",
       "      <th>0</th>\n",
       "      <td>2025-09-25 12:03:27</td>\n",
       "      <td>0.044164</td>\n",
       "      <td>0.152256</td>\n",
       "      <td>0.646844</td>\n",
       "      <td>-0.665</td>\n",
       "      <td>-5.8100</td>\n",
       "      <td>3.2550</td>\n",
       "    </tr>\n",
       "    <tr>\n",
       "      <th>1</th>\n",
       "      <td>2025-09-25 12:03:27</td>\n",
       "      <td>0.044164</td>\n",
       "      <td>0.152256</td>\n",
       "      <td>0.646844</td>\n",
       "      <td>-0.665</td>\n",
       "      <td>-5.8100</td>\n",
       "      <td>3.2550</td>\n",
       "    </tr>\n",
       "    <tr>\n",
       "      <th>2</th>\n",
       "      <td>2025-09-25 12:03:27</td>\n",
       "      <td>0.044164</td>\n",
       "      <td>0.152256</td>\n",
       "      <td>0.646844</td>\n",
       "      <td>-0.665</td>\n",
       "      <td>-5.8100</td>\n",
       "      <td>3.2550</td>\n",
       "    </tr>\n",
       "    <tr>\n",
       "      <th>3</th>\n",
       "      <td>2025-09-25 12:03:27</td>\n",
       "      <td>0.046848</td>\n",
       "      <td>0.206912</td>\n",
       "      <td>1.039684</td>\n",
       "      <td>-6.685</td>\n",
       "      <td>16.6775</td>\n",
       "      <td>-3.1325</td>\n",
       "    </tr>\n",
       "    <tr>\n",
       "      <th>4</th>\n",
       "      <td>2025-09-25 12:03:27</td>\n",
       "      <td>0.046848</td>\n",
       "      <td>0.206912</td>\n",
       "      <td>1.039684</td>\n",
       "      <td>-6.685</td>\n",
       "      <td>16.6775</td>\n",
       "      <td>-3.1325</td>\n",
       "    </tr>\n",
       "  </tbody>\n",
       "</table>\n",
       "</div>"
      ],
      "text/plain": [
       "            timestamp        Ax        Ay        Az     Gx       Gy      Gz\n",
       "0 2025-09-25 12:03:27  0.044164  0.152256  0.646844 -0.665  -5.8100  3.2550\n",
       "1 2025-09-25 12:03:27  0.044164  0.152256  0.646844 -0.665  -5.8100  3.2550\n",
       "2 2025-09-25 12:03:27  0.044164  0.152256  0.646844 -0.665  -5.8100  3.2550\n",
       "3 2025-09-25 12:03:27  0.046848  0.206912  1.039684 -6.685  16.6775 -3.1325\n",
       "4 2025-09-25 12:03:27  0.046848  0.206912  1.039684 -6.685  16.6775 -3.1325"
      ]
     },
     "metadata": {},
     "output_type": "display_data"
    }
   ],
   "source": [
    "# ---------------- Load data ----------------\n",
    "for k,p in FILES.items():\n",
    "    if not os.path.exists(p):\n",
    "        raise FileNotFoundError(f\"Missing expected file: {p}\")\n",
    "\n",
    "\n",
    "# Read with pandas\n",
    "raw = {}\n",
    "for label,path in FILES.items():\n",
    "    df = pd.read_excel(path, engine='openpyxl')\n",
    "    raw[label] = df\n",
    "    print(f\"Loaded {label}: shape={df.shape}\")\n",
    "    display(df.head())"
   ]
  },
  {
   "cell_type": "code",
   "execution_count": 5,
   "id": "deda3964-e325-4e2b-a54e-9a4c089b28dd",
   "metadata": {},
   "outputs": [
    {
     "name": "stdout",
     "output_type": "stream",
     "text": [
      "OFF sensor cols: ['Ax', 'Ay', 'Az', 'Gx', 'Gy', 'Gz']\n",
      "ON sensor cols: ['Ax', 'Ay', 'Az', 'Gx', 'Gy', 'Gz']\n",
      "NO_FAN sensor cols: ['Ax', 'Ay', 'Az', 'Gx', 'Gy', 'Gz']\n",
      "OFF -> (9000, 6)\n",
      "ON -> (9000, 6)\n",
      "NO_FAN -> (9000, 6)\n"
     ]
    }
   ],
   "source": [
    "# Identify sensor columns (try to locate accel/gyro names, else numeric first 6)\n",
    "\n",
    "\n",
    "def pick_sensor_columns(df):\n",
    "    expected = ['Ax','Ay','Az','Gx','Gy','Gz']\n",
    "    cols = [c for c in df.columns if isinstance(c,str)]\n",
    "    lowered = [c.lower() for c in cols]\n",
    "    chosen = []\n",
    "    for e in expected:\n",
    "        if e in lowered:\n",
    "            chosen.append(cols[lowered.index(e)])\n",
    "        if len(chosen)==6:\n",
    "            return chosen\n",
    "        numeric_cols = df.select_dtypes(include=[np.number]).columns.tolist()\n",
    "        if len(numeric_cols)>=6:\n",
    "            return numeric_cols[:6]\n",
    "        raise ValueError('Could not find 6 numeric sensor columns')\n",
    "\n",
    "\n",
    "sensor_cols = {}\n",
    "for label,df in raw.items():\n",
    "    sensor_cols[label] = pick_sensor_columns(df)\n",
    "    print(label, 'sensor cols:', sensor_cols[label])\n",
    "\n",
    "\n",
    "# Convert to numpy arrays\n",
    "data = {}\n",
    "for label,df in raw.items():\n",
    "    cols = sensor_cols[label]\n",
    "    arr = df[cols].to_numpy(dtype=float)\n",
    "    data[label] = arr\n",
    "    print(label, '->', arr.shape)"
   ]
  },
  {
   "cell_type": "markdown",
   "id": "35bc5dad-7329-48b4-bbbe-98a4991464e5",
   "metadata": {},
   "source": [
    "## EDA"
   ]
  },
  {
   "cell_type": "code",
   "execution_count": 7,
   "id": "f26f00e1-91b1-46e8-9c51-1d22e425dd34",
   "metadata": {},
   "outputs": [
    {
     "data": {
      "image/png": "[encoded data removed]",
      "text/plain": [
       "<Figure size 1200x800 with 6 Axes>"
      ]
     },
     "metadata": {},
     "output_type": "display_data"
    },
    {
     "data": {
      "text/plain": [
       "<Figure size 640x480 with 0 Axes>"
      ]
     },
     "metadata": {},
     "output_type": "display_data"
    },
    {
     "data": {
      "text/plain": [
       "<Figure size 640x480 with 0 Axes>"
      ]
     },
     "metadata": {},
     "output_type": "display_data"
    },
    {
     "data": {
      "text/plain": [
       "<Figure size 640x480 with 0 Axes>"
      ]
     },
     "metadata": {},
     "output_type": "display_data"
    },
    {
     "data": {
      "text/plain": [
       "<Figure size 640x480 with 0 Axes>"
      ]
     },
     "metadata": {},
     "output_type": "display_data"
    },
    {
     "data": {
      "text/plain": [
       "<Figure size 640x480 with 0 Axes>"
      ]
     },
     "metadata": {},
     "output_type": "display_data"
    }
   ],
   "source": [
    "# ---------------- EDA guidance (what to look for) ----------------\n",
    "# 1) Stationarity: plot segments across time and check mean/std drift\n",
    "# 2) Noise: estimate RMS and compare across classes\n",
    "# 3) Spectral peaks: compute FFT across windows to find dominant vibration frequencies\n",
    "# 4) Cross-channel correlation: check if accelerometer channels correlate with gyro (crosstalk)\n",
    "\n",
    "\n",
    "# Example EDA plots (first file) - run interactively in notebook\n",
    "first_label = list(data.keys())[0]\n",
    "arr0 = data[first_label]\n",
    "L = min(2000, arr0.shape[0])\n",
    "fig, axs = plt.subplots(3,2,figsize=(12,8))\n",
    "axs = axs.flatten()\n",
    "\n",
    "for i in range(6):\n",
    "    axs[i].plot(arr0[:L,i])\n",
    "    axs[i].set_title(f'ch{i}')\n",
    "    plt.tight_layout()\n",
    "    plt.show()"
   ]
  },
  {
   "cell_type": "code",
   "execution_count": 8,
   "id": "e0e3c19c-81bd-404b-8c1c-c33b8c8e5383",
   "metadata": {},
   "outputs": [
    {
     "name": "stdout",
     "output_type": "stream",
     "text": [
      "    label  n_samples                                        mean_per_ch  \\\n",
      "0     OFF       9000  [0.0258, -0.3032, 0.6777, -0.694, -0.0999, -0....   \n",
      "1      ON       9000  [0.0086, -0.2735, 0.714, -1.0368, -0.0528, -0....   \n",
      "2  NO_FAN       9000  [0.0035, -0.316, 0.6917, -0.1285, 0.4669, 0.3078]   \n",
      "\n",
      "                                          std_per_ch  \\\n",
      "0     [0.0076, 0.5102, 0.4595, 0.207, 0.167, 0.0401]   \n",
      "1   [0.1794, 0.6164, 0.5621, 11.9188, 5.2561, 7.413]   \n",
      "2  [0.2355, 0.7116, 0.6184, 13.9195, 9.0204, 9.0616]   \n",
      "\n",
      "                                          rms_per_ch  \n",
      "0   [0.0269, 0.5935, 0.8188, 0.7242, 0.1946, 0.3649]  \n",
      "1  [0.1796, 0.6743, 0.9087, 11.9638, 5.2563, 7.4146]  \n",
      "2    [0.2355, 0.7786, 0.9278, 13.92, 9.0325, 9.0668]  \n"
     ]
    }
   ],
   "source": [
    "# Compute basic stats table\n",
    "summary = []\n",
    "for k,arr in data.items():\n",
    "    summary.append({\n",
    "    'label':k,\n",
    "    'n_samples':arr.shape[0],\n",
    "    'mean_per_ch':np.round(np.mean(arr,axis=0),4).tolist(),\n",
    "    'std_per_ch':np.round(np.std(arr,axis=0),4).tolist(),\n",
    "    'rms_per_ch':np.round(np.sqrt(np.mean(arr**2,axis=0)),4).tolist()\n",
    "    })\n",
    "print(pd.DataFrame(summary))"
   ]
  },
  {
   "cell_type": "code",
   "execution_count": 9,
   "id": "c4db76c2-37c2-404a-b55d-af2a8c790794",
   "metadata": {},
   "outputs": [
    {
     "name": "stdout",
     "output_type": "stream",
     "text": [
      "OFF windows: 69\n",
      "ON windows: 69\n",
      "NO_FAN windows: 69\n",
      "Total windows: (207, 6, 256)\n",
      "Model X shape (samples, time, channels): (207, 256, 6)\n",
      "Train/Val/Test: (144, 256, 6) (31, 256, 6) (32, 256, 6)\n"
     ]
    }
   ],
   "source": [
    "# ---------------- Dataset creation: windows ----------------\n",
    "X_parts = []\n",
    "y_parts = []\n",
    "\n",
    "for label,arr in data.items():\n",
    "    W = make_windows(arr, window_size=WINDOW_SIZE, step=STEP)\n",
    "    X_parts.append(W)\n",
    "    y_parts.append(np.full((W.shape[0],), LABEL_MAP[label], dtype=int))\n",
    "    print(label, 'windows:', W.shape[0])\n",
    "\n",
    "\n",
    "X = np.concatenate(X_parts, axis=0) # n_windows x channels x window\n",
    "y = np.concatenate(y_parts, axis=0)\n",
    "print('Total windows:', X.shape)\n",
    "\n",
    "\n",
    "# reshape to (samples, time, channels) for Conv1D\n",
    "X = np.transpose(X, (0,2,1)).astype(np.float32)\n",
    "print('Model X shape (samples, time, channels):', X.shape)\n",
    "\n",
    "\n",
    "# Shuffle and split\n",
    "X, y = shuffle(X, y, random_state=42)\n",
    "X_train, X_temp, y_train, y_temp = train_test_split(X, y, test_size=0.3, stratify=y, random_state=42)\n",
    "X_val, X_test, y_val, y_test = train_test_split(X_temp, y_temp, test_size=0.5, stratify=y_temp, random_state=42)\n",
    "print('Train/Val/Test:', X_train.shape, X_val.shape, X_test.shape)"
   ]
  },
  {
   "cell_type": "code",
   "execution_count": 10,
   "id": "aad7e631-33bc-47fd-a094-d129b96ccee9",
   "metadata": {},
   "outputs": [],
   "source": [
    "# Standardize per-channel (fit on train only)\n",
    "scalers = {}\n",
    "for ch in range(X.shape[2]):\n",
    "    s = StandardScaler()\n",
    "    s.fit(X_train[:,:,ch])\n",
    "    X_train[:,:,ch] = s.transform(X_train[:,:,ch])\n",
    "    X_val[:,:,ch] = s.transform(X_val[:,:,ch])\n",
    "    X_test[:,:,ch] = s.transform(X_test[:,:,ch])\n",
    "    scalers[ch] = s"
   ]
  },
  {
   "cell_type": "code",
   "execution_count": 11,
   "id": "155203ee-145f-45b4-8b9b-fb08cec7b35f",
   "metadata": {},
   "outputs": [
    {
     "data": {
      "text/html": [
       "<pre style=\"white-space:pre;overflow-x:auto;line-height:normal;font-family:Menlo,'DejaVu Sans Mono',consolas,'Courier New',monospace\"><span style=\"font-weight: bold\">Model: \"functional\"</span>\n",
       "</pre>\n"
      ],
      "text/plain": [
       "\u001b[1mModel: \"functional\"\u001b[0m\n"
      ]
     },
     "metadata": {},
     "output_type": "display_data"
    },
    {
     "data": {
      "text/html": [
       "<pre style=\"white-space:pre;overflow-x:auto;line-height:normal;font-family:Menlo,'DejaVu Sans Mono',consolas,'Courier New',monospace\">┏━━━━━━━━━━━━━━━━━━━━━━━━━━━━━━━━━┳━━━━━━━━━━━━━━━━━━━━━━━━┳━━━━━━━━━━━━━━━┓\n",
       "┃<span style=\"font-weight: bold\"> Layer (type)                    </span>┃<span style=\"font-weight: bold\"> Output Shape           </span>┃<span style=\"font-weight: bold\">       Param # </span>┃\n",
       "┡━━━━━━━━━━━━━━━━━━━━━━━━━━━━━━━━━╇━━━━━━━━━━━━━━━━━━━━━━━━╇━━━━━━━━━━━━━━━┩\n",
       "│ input_layer (<span style=\"color: #0087ff; text-decoration-color: #0087ff\">InputLayer</span>)        │ (<span style=\"color: #00d7ff; text-decoration-color: #00d7ff\">None</span>, <span style=\"color: #00af00; text-decoration-color: #00af00\">256</span>, <span style=\"color: #00af00; text-decoration-color: #00af00\">6</span>)         │             <span style=\"color: #00af00; text-decoration-color: #00af00\">0</span> │\n",
       "├─────────────────────────────────┼────────────────────────┼───────────────┤\n",
       "│ conv1d (<span style=\"color: #0087ff; text-decoration-color: #0087ff\">Conv1D</span>)                 │ (<span style=\"color: #00d7ff; text-decoration-color: #00d7ff\">None</span>, <span style=\"color: #00af00; text-decoration-color: #00af00\">256</span>, <span style=\"color: #00af00; text-decoration-color: #00af00\">16</span>)        │           <span style=\"color: #00af00; text-decoration-color: #00af00\">496</span> │\n",
       "├─────────────────────────────────┼────────────────────────┼───────────────┤\n",
       "│ max_pooling1d (<span style=\"color: #0087ff; text-decoration-color: #0087ff\">MaxPooling1D</span>)    │ (<span style=\"color: #00d7ff; text-decoration-color: #00d7ff\">None</span>, <span style=\"color: #00af00; text-decoration-color: #00af00\">128</span>, <span style=\"color: #00af00; text-decoration-color: #00af00\">16</span>)        │             <span style=\"color: #00af00; text-decoration-color: #00af00\">0</span> │\n",
       "├─────────────────────────────────┼────────────────────────┼───────────────┤\n",
       "│ conv1d_1 (<span style=\"color: #0087ff; text-decoration-color: #0087ff\">Conv1D</span>)               │ (<span style=\"color: #00d7ff; text-decoration-color: #00d7ff\">None</span>, <span style=\"color: #00af00; text-decoration-color: #00af00\">128</span>, <span style=\"color: #00af00; text-decoration-color: #00af00\">28</span>)        │         <span style=\"color: #00af00; text-decoration-color: #00af00\">1,372</span> │\n",
       "├─────────────────────────────────┼────────────────────────┼───────────────┤\n",
       "│ max_pooling1d_1 (<span style=\"color: #0087ff; text-decoration-color: #0087ff\">MaxPooling1D</span>)  │ (<span style=\"color: #00d7ff; text-decoration-color: #00d7ff\">None</span>, <span style=\"color: #00af00; text-decoration-color: #00af00\">64</span>, <span style=\"color: #00af00; text-decoration-color: #00af00\">28</span>)         │             <span style=\"color: #00af00; text-decoration-color: #00af00\">0</span> │\n",
       "├─────────────────────────────────┼────────────────────────┼───────────────┤\n",
       "│ conv1d_2 (<span style=\"color: #0087ff; text-decoration-color: #0087ff\">Conv1D</span>)               │ (<span style=\"color: #00d7ff; text-decoration-color: #00d7ff\">None</span>, <span style=\"color: #00af00; text-decoration-color: #00af00\">64</span>, <span style=\"color: #00af00; text-decoration-color: #00af00\">40</span>)         │         <span style=\"color: #00af00; text-decoration-color: #00af00\">3,400</span> │\n",
       "├─────────────────────────────────┼────────────────────────┼───────────────┤\n",
       "│ global_average_pooling1d        │ (<span style=\"color: #00d7ff; text-decoration-color: #00d7ff\">None</span>, <span style=\"color: #00af00; text-decoration-color: #00af00\">40</span>)             │             <span style=\"color: #00af00; text-decoration-color: #00af00\">0</span> │\n",
       "│ (<span style=\"color: #0087ff; text-decoration-color: #0087ff\">GlobalAveragePooling1D</span>)        │                        │               │\n",
       "├─────────────────────────────────┼────────────────────────┼───────────────┤\n",
       "│ dense (<span style=\"color: #0087ff; text-decoration-color: #0087ff\">Dense</span>)                   │ (<span style=\"color: #00d7ff; text-decoration-color: #00d7ff\">None</span>, <span style=\"color: #00af00; text-decoration-color: #00af00\">32</span>)             │         <span style=\"color: #00af00; text-decoration-color: #00af00\">1,312</span> │\n",
       "├─────────────────────────────────┼────────────────────────┼───────────────┤\n",
       "│ dropout (<span style=\"color: #0087ff; text-decoration-color: #0087ff\">Dropout</span>)               │ (<span style=\"color: #00d7ff; text-decoration-color: #00d7ff\">None</span>, <span style=\"color: #00af00; text-decoration-color: #00af00\">32</span>)             │             <span style=\"color: #00af00; text-decoration-color: #00af00\">0</span> │\n",
       "├─────────────────────────────────┼────────────────────────┼───────────────┤\n",
       "│ dense_1 (<span style=\"color: #0087ff; text-decoration-color: #0087ff\">Dense</span>)                 │ (<span style=\"color: #00d7ff; text-decoration-color: #00d7ff\">None</span>, <span style=\"color: #00af00; text-decoration-color: #00af00\">3</span>)              │            <span style=\"color: #00af00; text-decoration-color: #00af00\">99</span> │\n",
       "└─────────────────────────────────┴────────────────────────┴───────────────┘\n",
       "</pre>\n"
      ],
      "text/plain": [
       "┏━━━━━━━━━━━━━━━━━━━━━━━━━━━━━━━━━┳━━━━━━━━━━━━━━━━━━━━━━━━┳━━━━━━━━━━━━━━━┓\n",
       "┃\u001b[1m \u001b[0m\u001b[1mLayer (type)                   \u001b[0m\u001b[1m \u001b[0m┃\u001b[1m \u001b[0m\u001b[1mOutput Shape          \u001b[0m\u001b[1m \u001b[0m┃\u001b[1m \u001b[0m\u001b[1m      Param #\u001b[0m\u001b[1m \u001b[0m┃\n",
       "┡━━━━━━━━━━━━━━━━━━━━━━━━━━━━━━━━━╇━━━━━━━━━━━━━━━━━━━━━━━━╇━━━━━━━━━━━━━━━┩\n",
       "│ input_layer (\u001b[38;5;33mInputLayer\u001b[0m)        │ (\u001b[38;5;45mNone\u001b[0m, \u001b[38;5;34m256\u001b[0m, \u001b[38;5;34m6\u001b[0m)         │             \u001b[38;5;34m0\u001b[0m │\n",
       "├─────────────────────────────────┼────────────────────────┼───────────────┤\n",
       "│ conv1d (\u001b[38;5;33mConv1D\u001b[0m)                 │ (\u001b[38;5;45mNone\u001b[0m, \u001b[38;5;34m256\u001b[0m, \u001b[38;5;34m16\u001b[0m)        │           \u001b[38;5;34m496\u001b[0m │\n",
       "├─────────────────────────────────┼────────────────────────┼───────────────┤\n",
       "│ max_pooling1d (\u001b[38;5;33mMaxPooling1D\u001b[0m)    │ (\u001b[38;5;45mNone\u001b[0m, \u001b[38;5;34m128\u001b[0m, \u001b[38;5;34m16\u001b[0m)        │             \u001b[38;5;34m0\u001b[0m │\n",
       "├─────────────────────────────────┼────────────────────────┼───────────────┤\n",
       "│ conv1d_1 (\u001b[38;5;33mConv1D\u001b[0m)               │ (\u001b[38;5;45mNone\u001b[0m, \u001b[38;5;34m128\u001b[0m, \u001b[38;5;34m28\u001b[0m)        │         \u001b[38;5;34m1,372\u001b[0m │\n",
       "├─────────────────────────────────┼────────────────────────┼───────────────┤\n",
       "│ max_pooling1d_1 (\u001b[38;5;33mMaxPooling1D\u001b[0m)  │ (\u001b[38;5;45mNone\u001b[0m, \u001b[38;5;34m64\u001b[0m, \u001b[38;5;34m28\u001b[0m)         │             \u001b[38;5;34m0\u001b[0m │\n",
       "├─────────────────────────────────┼────────────────────────┼───────────────┤\n",
       "│ conv1d_2 (\u001b[38;5;33mConv1D\u001b[0m)               │ (\u001b[38;5;45mNone\u001b[0m, \u001b[38;5;34m64\u001b[0m, \u001b[38;5;34m40\u001b[0m)         │         \u001b[38;5;34m3,400\u001b[0m │\n",
       "├─────────────────────────────────┼────────────────────────┼───────────────┤\n",
       "│ global_average_pooling1d        │ (\u001b[38;5;45mNone\u001b[0m, \u001b[38;5;34m40\u001b[0m)             │             \u001b[38;5;34m0\u001b[0m │\n",
       "│ (\u001b[38;5;33mGlobalAveragePooling1D\u001b[0m)        │                        │               │\n",
       "├─────────────────────────────────┼────────────────────────┼───────────────┤\n",
       "│ dense (\u001b[38;5;33mDense\u001b[0m)                   │ (\u001b[38;5;45mNone\u001b[0m, \u001b[38;5;34m32\u001b[0m)             │         \u001b[38;5;34m1,312\u001b[0m │\n",
       "├─────────────────────────────────┼────────────────────────┼───────────────┤\n",
       "│ dropout (\u001b[38;5;33mDropout\u001b[0m)               │ (\u001b[38;5;45mNone\u001b[0m, \u001b[38;5;34m32\u001b[0m)             │             \u001b[38;5;34m0\u001b[0m │\n",
       "├─────────────────────────────────┼────────────────────────┼───────────────┤\n",
       "│ dense_1 (\u001b[38;5;33mDense\u001b[0m)                 │ (\u001b[38;5;45mNone\u001b[0m, \u001b[38;5;34m3\u001b[0m)              │            \u001b[38;5;34m99\u001b[0m │\n",
       "└─────────────────────────────────┴────────────────────────┴───────────────┘\n"
      ]
     },
     "metadata": {},
     "output_type": "display_data"
    },
    {
     "data": {
      "text/html": [
       "<pre style=\"white-space:pre;overflow-x:auto;line-height:normal;font-family:Menlo,'DejaVu Sans Mono',consolas,'Courier New',monospace\"><span style=\"font-weight: bold\"> Total params: </span><span style=\"color: #00af00; text-decoration-color: #00af00\">6,679</span> (26.09 KB)\n",
       "</pre>\n"
      ],
      "text/plain": [
       "\u001b[1m Total params: \u001b[0m\u001b[38;5;34m6,679\u001b[0m (26.09 KB)\n"
      ]
     },
     "metadata": {},
     "output_type": "display_data"
    },
    {
     "data": {
      "text/html": [
       "<pre style=\"white-space:pre;overflow-x:auto;line-height:normal;font-family:Menlo,'DejaVu Sans Mono',consolas,'Courier New',monospace\"><span style=\"font-weight: bold\"> Trainable params: </span><span style=\"color: #00af00; text-decoration-color: #00af00\">6,679</span> (26.09 KB)\n",
       "</pre>\n"
      ],
      "text/plain": [
       "\u001b[1m Trainable params: \u001b[0m\u001b[38;5;34m6,679\u001b[0m (26.09 KB)\n"
      ]
     },
     "metadata": {},
     "output_type": "display_data"
    },
    {
     "data": {
      "text/html": [
       "<pre style=\"white-space:pre;overflow-x:auto;line-height:normal;font-family:Menlo,'DejaVu Sans Mono',consolas,'Courier New',monospace\"><span style=\"font-weight: bold\"> Non-trainable params: </span><span style=\"color: #00af00; text-decoration-color: #00af00\">0</span> (0.00 B)\n",
       "</pre>\n"
      ],
      "text/plain": [
       "\u001b[1m Non-trainable params: \u001b[0m\u001b[38;5;34m0\u001b[0m (0.00 B)\n"
      ]
     },
     "metadata": {},
     "output_type": "display_data"
    },
    {
     "name": "stdout",
     "output_type": "stream",
     "text": [
      "Total params: 6679\n"
     ]
    }
   ],
   "source": [
    "#---------------- Model architecture recommendations ----------------\n",
    "# Critique of original proposal (Conv2D -> pool -> LSTM):\n",
    "# - Conv2D treats channels/spatial layout differently; for IMU time-series it's more natural to use Conv1D across time\n",
    "# - LSTMs are heavy on operations and RAM; alternatives that are cheaper:\n",
    "# * Stacked small Conv1D (temporal convolutions) + GlobalAveragePooling\n",
    "# * Depthwise separable conv (saves params) - implemented via small Conv1D filters and channel-wise processing\n",
    "# * Temporal convolutional networks (dilated causal convs) for long-range dependencies\n",
    "# * Lightweight GRU is slightly lighter than LSTM, but still heavier than conv-only\n",
    "# - Use GlobalAveragePooling instead of Flatten->Dense to save parameters\n",
    "# - Use quantization-aware-training or post-training int8 quantization with representative dataset\n",
    "\n",
    "\n",
    "# ---------------- Build a compact Conv1D model ----------------\n",
    "\n",
    "def build_compact_model(input_shape, num_classes):\n",
    "    inp = keras.Input(shape=input_shape)\n",
    "    x = layers.Conv1D(16, 5, padding='same', activation='relu')(inp)\n",
    "    x = layers.MaxPooling1D(2)(x)\n",
    "    x = layers.Conv1D(28, 3, padding='same', activation='relu')(x)\n",
    "    x = layers.MaxPooling1D(2)(x)\n",
    "    x = layers.Conv1D(40, 3, padding='same', activation='relu')(x)\n",
    "    x = layers.GlobalAveragePooling1D()(x)\n",
    "    x = layers.Dense(32, activation='relu')(x)\n",
    "    x = layers.Dropout(0.2)(x)\n",
    "    out = layers.Dense(len(np.unique(y)), activation='softmax')(x)\n",
    "    model = keras.Model(inp, out)\n",
    "    return model\n",
    "\n",
    "\n",
    "model = build_compact_model(X_train.shape[1:], len(np.unique(y)))\n",
    "model.summary()\n",
    "print('Total params:', model.count_params())"
   ]
  },
  {
   "cell_type": "code",
   "execution_count": 12,
   "id": "d8587e24-4676-4feb-a986-d0084b12a31e",
   "metadata": {},
   "outputs": [
    {
     "name": "stdout",
     "output_type": "stream",
     "text": [
      "Epoch 1/80\n",
      "\u001b[1m5/5\u001b[0m \u001b[32m━━━━━━━━━━━━━━━━━━━━\u001b[0m\u001b[37m\u001b[0m \u001b[1m1s\u001b[0m 27ms/step - accuracy: 0.3124 - loss: 1.1023 - val_accuracy: 0.3226 - val_loss: 1.0169 - learning_rate: 0.0010\n",
      "Epoch 2/80\n",
      "\u001b[1m5/5\u001b[0m \u001b[32m━━━━━━━━━━━━━━━━━━━━\u001b[0m\u001b[37m\u001b[0m \u001b[1m0s\u001b[0m 9ms/step - accuracy: 0.3242 - loss: 1.0280 - val_accuracy: 0.3226 - val_loss: 0.9727 - learning_rate: 0.0010\n",
      "Epoch 3/80\n",
      "\u001b[1m5/5\u001b[0m \u001b[32m━━━━━━━━━━━━━━━━━━━━\u001b[0m\u001b[37m\u001b[0m \u001b[1m0s\u001b[0m 9ms/step - accuracy: 0.4096 - loss: 0.9799 - val_accuracy: 0.3226 - val_loss: 0.9461 - learning_rate: 0.0010\n",
      "Epoch 4/80\n",
      "\u001b[1m5/5\u001b[0m \u001b[32m━━━━━━━━━━━━━━━━━━━━\u001b[0m\u001b[37m\u001b[0m \u001b[1m0s\u001b[0m 9ms/step - accuracy: 0.3801 - loss: 0.9630 - val_accuracy: 0.4839 - val_loss: 0.9202 - learning_rate: 0.0010\n",
      "Epoch 5/80\n",
      "\u001b[1m5/5\u001b[0m \u001b[32m━━━━━━━━━━━━━━━━━━━━\u001b[0m\u001b[37m\u001b[0m \u001b[1m0s\u001b[0m 9ms/step - accuracy: 0.4954 - loss: 0.9372 - val_accuracy: 0.5806 - val_loss: 0.8798 - learning_rate: 0.0010\n",
      "Epoch 6/80\n",
      "\u001b[1m5/5\u001b[0m \u001b[32m━━━━━━━━━━━━━━━━━━━━\u001b[0m\u001b[37m\u001b[0m \u001b[1m0s\u001b[0m 9ms/step - accuracy: 0.6642 - loss: 0.9076 - val_accuracy: 0.6129 - val_loss: 0.8491 - learning_rate: 0.0010\n",
      "Epoch 7/80\n",
      "\u001b[1m5/5\u001b[0m \u001b[32m━━━━━━━━━━━━━━━━━━━━\u001b[0m\u001b[37m\u001b[0m \u001b[1m0s\u001b[0m 9ms/step - accuracy: 0.6863 - loss: 0.8562 - val_accuracy: 0.6129 - val_loss: 0.8247 - learning_rate: 0.0010\n",
      "Epoch 8/80\n",
      "\u001b[1m5/5\u001b[0m \u001b[32m━━━━━━━━━━━━━━━━━━━━\u001b[0m\u001b[37m\u001b[0m \u001b[1m0s\u001b[0m 9ms/step - accuracy: 0.7203 - loss: 0.8405 - val_accuracy: 0.7097 - val_loss: 0.7905 - learning_rate: 0.0010\n",
      "Epoch 9/80\n",
      "\u001b[1m5/5\u001b[0m \u001b[32m━━━━━━━━━━━━━━━━━━━━\u001b[0m\u001b[37m\u001b[0m \u001b[1m0s\u001b[0m 14ms/step - accuracy: 0.7441 - loss: 0.7821 - val_accuracy: 0.7419 - val_loss: 0.7552 - learning_rate: 0.0010\n",
      "Epoch 10/80\n",
      "\u001b[1m5/5\u001b[0m \u001b[32m━━━━━━━━━━━━━━━━━━━━\u001b[0m\u001b[37m\u001b[0m \u001b[1m0s\u001b[0m 9ms/step - accuracy: 0.7496 - loss: 0.7509 - val_accuracy: 0.6774 - val_loss: 0.7299 - learning_rate: 0.0010\n",
      "Epoch 11/80\n",
      "\u001b[1m5/5\u001b[0m \u001b[32m━━━━━━━━━━━━━━━━━━━━\u001b[0m\u001b[37m\u001b[0m \u001b[1m0s\u001b[0m 9ms/step - accuracy: 0.7433 - loss: 0.6962 - val_accuracy: 0.6774 - val_loss: 0.6968 - learning_rate: 0.0010\n",
      "Epoch 12/80\n",
      "\u001b[1m5/5\u001b[0m \u001b[32m━━━━━━━━━━━━━━━━━━━━\u001b[0m\u001b[37m\u001b[0m \u001b[1m0s\u001b[0m 9ms/step - accuracy: 0.7137 - loss: 0.7043 - val_accuracy: 0.7097 - val_loss: 0.6434 - learning_rate: 0.0010\n",
      "Epoch 13/80\n",
      "\u001b[1m5/5\u001b[0m \u001b[32m━━━━━━━━━━━━━━━━━━━━\u001b[0m\u001b[37m\u001b[0m \u001b[1m0s\u001b[0m 9ms/step - accuracy: 0.8073 - loss: 0.5999 - val_accuracy: 0.7097 - val_loss: 0.5875 - learning_rate: 0.0010\n",
      "Epoch 14/80\n",
      "\u001b[1m5/5\u001b[0m \u001b[32m━━━━━━━━━━━━━━━━━━━━\u001b[0m\u001b[37m\u001b[0m \u001b[1m0s\u001b[0m 9ms/step - accuracy: 0.7446 - loss: 0.5883 - val_accuracy: 0.7419 - val_loss: 0.5230 - learning_rate: 0.0010\n",
      "Epoch 15/80\n",
      "\u001b[1m5/5\u001b[0m \u001b[32m━━━━━━━━━━━━━━━━━━━━\u001b[0m\u001b[37m\u001b[0m \u001b[1m0s\u001b[0m 9ms/step - accuracy: 0.7878 - loss: 0.5312 - val_accuracy: 0.7419 - val_loss: 0.4738 - learning_rate: 0.0010\n",
      "Epoch 16/80\n",
      "\u001b[1m5/5\u001b[0m \u001b[32m━━━━━━━━━━━━━━━━━━━━\u001b[0m\u001b[37m\u001b[0m \u001b[1m0s\u001b[0m 9ms/step - accuracy: 0.7876 - loss: 0.4777 - val_accuracy: 0.7419 - val_loss: 0.4431 - learning_rate: 0.0010\n",
      "Epoch 17/80\n",
      "\u001b[1m5/5\u001b[0m \u001b[32m━━━━━━━━━━━━━━━━━━━━\u001b[0m\u001b[37m\u001b[0m \u001b[1m0s\u001b[0m 9ms/step - accuracy: 0.8310 - loss: 0.4791 - val_accuracy: 0.8065 - val_loss: 0.4090 - learning_rate: 0.0010\n",
      "Epoch 18/80\n",
      "\u001b[1m5/5\u001b[0m \u001b[32m━━━━━━━━━━━━━━━━━━━━\u001b[0m\u001b[37m\u001b[0m \u001b[1m0s\u001b[0m 9ms/step - accuracy: 0.8154 - loss: 0.4106 - val_accuracy: 0.8387 - val_loss: 0.3808 - learning_rate: 0.0010\n",
      "Epoch 19/80\n",
      "\u001b[1m5/5\u001b[0m \u001b[32m━━━━━━━━━━━━━━━━━━━━\u001b[0m\u001b[37m\u001b[0m \u001b[1m0s\u001b[0m 9ms/step - accuracy: 0.8193 - loss: 0.4095 - val_accuracy: 0.8387 - val_loss: 0.3650 - learning_rate: 0.0010\n",
      "Epoch 20/80\n",
      "\u001b[1m5/5\u001b[0m \u001b[32m━━━━━━━━━━━━━━━━━━━━\u001b[0m\u001b[37m\u001b[0m \u001b[1m0s\u001b[0m 9ms/step - accuracy: 0.7846 - loss: 0.4262 - val_accuracy: 0.7419 - val_loss: 0.3779 - learning_rate: 0.0010\n",
      "Epoch 21/80\n",
      "\u001b[1m5/5\u001b[0m \u001b[32m━━━━━━━━━━━━━━━━━━━━\u001b[0m\u001b[37m\u001b[0m \u001b[1m0s\u001b[0m 9ms/step - accuracy: 0.8073 - loss: 0.3729 - val_accuracy: 0.8387 - val_loss: 0.3105 - learning_rate: 0.0010\n",
      "Epoch 22/80\n",
      "\u001b[1m5/5\u001b[0m \u001b[32m━━━━━━━━━━━━━━━━━━━━\u001b[0m\u001b[37m\u001b[0m \u001b[1m0s\u001b[0m 9ms/step - accuracy: 0.8600 - loss: 0.3611 - val_accuracy: 0.8710 - val_loss: 0.2923 - learning_rate: 0.0010\n",
      "Epoch 23/80\n",
      "\u001b[1m5/5\u001b[0m \u001b[32m━━━━━━━━━━━━━━━━━━━━\u001b[0m\u001b[37m\u001b[0m \u001b[1m0s\u001b[0m 9ms/step - accuracy: 0.8409 - loss: 0.3575 - val_accuracy: 0.7419 - val_loss: 0.3714 - learning_rate: 0.0010\n",
      "Epoch 24/80\n",
      "\u001b[1m5/5\u001b[0m \u001b[32m━━━━━━━━━━━━━━━━━━━━\u001b[0m\u001b[37m\u001b[0m \u001b[1m0s\u001b[0m 9ms/step - accuracy: 0.7423 - loss: 0.3760 - val_accuracy: 0.8065 - val_loss: 0.3439 - learning_rate: 0.0010\n",
      "Epoch 25/80\n",
      "\u001b[1m5/5\u001b[0m \u001b[32m━━━━━━━━━━━━━━━━━━━━\u001b[0m\u001b[37m\u001b[0m \u001b[1m0s\u001b[0m 9ms/step - accuracy: 0.8950 - loss: 0.3040 - val_accuracy: 0.9032 - val_loss: 0.2944 - learning_rate: 0.0010\n",
      "Epoch 26/80\n",
      "\u001b[1m5/5\u001b[0m \u001b[32m━━━━━━━━━━━━━━━━━━━━\u001b[0m\u001b[37m\u001b[0m \u001b[1m0s\u001b[0m 9ms/step - accuracy: 0.8526 - loss: 0.3633 - val_accuracy: 0.8710 - val_loss: 0.2641 - learning_rate: 0.0010\n",
      "Epoch 27/80\n",
      "\u001b[1m5/5\u001b[0m \u001b[32m━━━━━━━━━━━━━━━━━━━━\u001b[0m\u001b[37m\u001b[0m \u001b[1m0s\u001b[0m 9ms/step - accuracy: 0.8377 - loss: 0.3515 - val_accuracy: 0.8387 - val_loss: 0.2771 - learning_rate: 0.0010\n",
      "Epoch 28/80\n",
      "\u001b[1m5/5\u001b[0m \u001b[32m━━━━━━━━━━━━━━━━━━━━\u001b[0m\u001b[37m\u001b[0m \u001b[1m0s\u001b[0m 9ms/step - accuracy: 0.8817 - loss: 0.2912 - val_accuracy: 0.9032 - val_loss: 0.2625 - learning_rate: 0.0010\n",
      "Epoch 29/80\n",
      "\u001b[1m5/5\u001b[0m \u001b[32m━━━━━━━━━━━━━━━━━━━━\u001b[0m\u001b[37m\u001b[0m \u001b[1m0s\u001b[0m 9ms/step - accuracy: 0.8869 - loss: 0.2851 - val_accuracy: 0.9032 - val_loss: 0.2571 - learning_rate: 0.0010\n",
      "Epoch 30/80\n",
      "\u001b[1m5/5\u001b[0m \u001b[32m━━━━━━━━━━━━━━━━━━━━\u001b[0m\u001b[37m\u001b[0m \u001b[1m0s\u001b[0m 9ms/step - accuracy: 0.8662 - loss: 0.2967 - val_accuracy: 0.8065 - val_loss: 0.2757 - learning_rate: 0.0010\n",
      "Epoch 31/80\n",
      "\u001b[1m5/5\u001b[0m \u001b[32m━━━━━━━━━━━━━━━━━━━━\u001b[0m\u001b[37m\u001b[0m \u001b[1m0s\u001b[0m 9ms/step - accuracy: 0.8439 - loss: 0.3091 - val_accuracy: 0.9032 - val_loss: 0.2151 - learning_rate: 0.0010\n",
      "Epoch 32/80\n",
      "\u001b[1m5/5\u001b[0m \u001b[32m━━━━━━━━━━━━━━━━━━━━\u001b[0m\u001b[37m\u001b[0m \u001b[1m0s\u001b[0m 10ms/step - accuracy: 0.8579 - loss: 0.2973 - val_accuracy: 0.9032 - val_loss: 0.2204 - learning_rate: 0.0010\n",
      "Epoch 33/80\n",
      "\u001b[1m5/5\u001b[0m \u001b[32m━━━━━━━━━━━━━━━━━━━━\u001b[0m\u001b[37m\u001b[0m \u001b[1m0s\u001b[0m 9ms/step - accuracy: 0.8853 - loss: 0.2654 - val_accuracy: 0.9032 - val_loss: 0.2242 - learning_rate: 0.0010\n",
      "Epoch 34/80\n",
      "\u001b[1m5/5\u001b[0m \u001b[32m━━━━━━━━━━━━━━━━━━━━\u001b[0m\u001b[37m\u001b[0m \u001b[1m0s\u001b[0m 10ms/step - accuracy: 0.8725 - loss: 0.2816 - val_accuracy: 0.9032 - val_loss: 0.2046 - learning_rate: 0.0010\n",
      "Epoch 35/80\n",
      "\u001b[1m5/5\u001b[0m \u001b[32m━━━━━━━━━━━━━━━━━━━━\u001b[0m\u001b[37m\u001b[0m \u001b[1m0s\u001b[0m 10ms/step - accuracy: 0.8837 - loss: 0.2768 - val_accuracy: 0.9032 - val_loss: 0.2012 - learning_rate: 0.0010\n",
      "Epoch 36/80\n",
      "\u001b[1m5/5\u001b[0m \u001b[32m━━━━━━━━━━━━━━━━━━━━\u001b[0m\u001b[37m\u001b[0m \u001b[1m0s\u001b[0m 9ms/step - accuracy: 0.8782 - loss: 0.2626 - val_accuracy: 0.8710 - val_loss: 0.2133 - learning_rate: 0.0010\n",
      "Epoch 37/80\n",
      "\u001b[1m5/5\u001b[0m \u001b[32m━━━━━━━━━━━━━━━━━━━━\u001b[0m\u001b[37m\u001b[0m \u001b[1m0s\u001b[0m 9ms/step - accuracy: 0.8922 - loss: 0.2319 - val_accuracy: 0.9032 - val_loss: 0.2008 - learning_rate: 0.0010\n",
      "Epoch 38/80\n",
      "\u001b[1m5/5\u001b[0m \u001b[32m━━━━━━━━━━━━━━━━━━━━\u001b[0m\u001b[37m\u001b[0m \u001b[1m0s\u001b[0m 10ms/step - accuracy: 0.9193 - loss: 0.2061 - val_accuracy: 0.9032 - val_loss: 0.2086 - learning_rate: 0.0010\n",
      "Epoch 39/80\n",
      "\u001b[1m5/5\u001b[0m \u001b[32m━━━━━━━━━━━━━━━━━━━━\u001b[0m\u001b[37m\u001b[0m \u001b[1m0s\u001b[0m 10ms/step - accuracy: 0.9350 - loss: 0.2161 - val_accuracy: 0.9032 - val_loss: 0.1939 - learning_rate: 0.0010\n",
      "Epoch 40/80\n",
      "\u001b[1m5/5\u001b[0m \u001b[32m━━━━━━━━━━━━━━━━━━━━\u001b[0m\u001b[37m\u001b[0m \u001b[1m0s\u001b[0m 10ms/step - accuracy: 0.9091 - loss: 0.1996 - val_accuracy: 0.9032 - val_loss: 0.1701 - learning_rate: 0.0010\n",
      "Epoch 41/80\n",
      "\u001b[1m5/5\u001b[0m \u001b[32m━━━━━━━━━━━━━━━━━━━━\u001b[0m\u001b[37m\u001b[0m \u001b[1m0s\u001b[0m 10ms/step - accuracy: 0.8953 - loss: 0.2075 - val_accuracy: 0.9032 - val_loss: 0.1484 - learning_rate: 0.0010\n",
      "Epoch 42/80\n",
      "\u001b[1m5/5\u001b[0m \u001b[32m━━━━━━━━━━━━━━━━━━━━\u001b[0m\u001b[37m\u001b[0m \u001b[1m0s\u001b[0m 9ms/step - accuracy: 0.9010 - loss: 0.2057 - val_accuracy: 0.9032 - val_loss: 0.1898 - learning_rate: 0.0010\n",
      "Epoch 43/80\n",
      "\u001b[1m5/5\u001b[0m \u001b[32m━━━━━━━━━━━━━━━━━━━━\u001b[0m\u001b[37m\u001b[0m \u001b[1m0s\u001b[0m 9ms/step - accuracy: 0.8756 - loss: 0.2610 - val_accuracy: 0.9032 - val_loss: 0.1721 - learning_rate: 0.0010\n",
      "Epoch 44/80\n",
      "\u001b[1m5/5\u001b[0m \u001b[32m━━━━━━━━━━━━━━━━━━━━\u001b[0m\u001b[37m\u001b[0m \u001b[1m0s\u001b[0m 10ms/step - accuracy: 0.8921 - loss: 0.2081 - val_accuracy: 0.9032 - val_loss: 0.1456 - learning_rate: 0.0010\n",
      "Epoch 45/80\n",
      "\u001b[1m5/5\u001b[0m \u001b[32m━━━━━━━━━━━━━━━━━━━━\u001b[0m\u001b[37m\u001b[0m \u001b[1m0s\u001b[0m 9ms/step - accuracy: 0.8940 - loss: 0.2208 - val_accuracy: 0.9032 - val_loss: 0.1659 - learning_rate: 0.0010\n",
      "Epoch 46/80\n",
      "\u001b[1m5/5\u001b[0m \u001b[32m━━━━━━━━━━━━━━━━━━━━\u001b[0m\u001b[37m\u001b[0m \u001b[1m0s\u001b[0m 11ms/step - accuracy: 0.8824 - loss: 0.2063 - val_accuracy: 0.9355 - val_loss: 0.1393 - learning_rate: 0.0010\n",
      "Epoch 47/80\n",
      "\u001b[1m5/5\u001b[0m \u001b[32m━━━━━━━━━━━━━━━━━━━━\u001b[0m\u001b[37m\u001b[0m \u001b[1m0s\u001b[0m 10ms/step - accuracy: 0.8753 - loss: 0.2075 - val_accuracy: 0.9032 - val_loss: 0.1416 - learning_rate: 0.0010\n",
      "Epoch 48/80\n",
      "\u001b[1m5/5\u001b[0m \u001b[32m━━━━━━━━━━━━━━━━━━━━\u001b[0m\u001b[37m\u001b[0m \u001b[1m0s\u001b[0m 9ms/step - accuracy: 0.9055 - loss: 0.1899 - val_accuracy: 0.9032 - val_loss: 0.1470 - learning_rate: 0.0010\n",
      "Epoch 49/80\n",
      "\u001b[1m5/5\u001b[0m \u001b[32m━━━━━━━━━━━━━━━━━━━━\u001b[0m\u001b[37m\u001b[0m \u001b[1m0s\u001b[0m 9ms/step - accuracy: 0.9184 - loss: 0.1748 - val_accuracy: 0.9032 - val_loss: 0.1393 - learning_rate: 0.0010\n",
      "Epoch 50/80\n",
      "\u001b[1m5/5\u001b[0m \u001b[32m━━━━━━━━━━━━━━━━━━━━\u001b[0m\u001b[37m\u001b[0m \u001b[1m0s\u001b[0m 10ms/step - accuracy: 0.9501 - loss: 0.1738 - val_accuracy: 0.9032 - val_loss: 0.1322 - learning_rate: 0.0010\n",
      "Epoch 51/80\n",
      "\u001b[1m5/5\u001b[0m \u001b[32m━━━━━━━━━━━━━━━━━━━━\u001b[0m\u001b[37m\u001b[0m \u001b[1m0s\u001b[0m 9ms/step - accuracy: 0.8559 - loss: 0.2319 - val_accuracy: 0.9032 - val_loss: 0.1584 - learning_rate: 0.0010\n",
      "Epoch 52/80\n",
      "\u001b[1m5/5\u001b[0m \u001b[32m━━━━━━━━━━━━━━━━━━━━\u001b[0m\u001b[37m\u001b[0m \u001b[1m0s\u001b[0m 9ms/step - accuracy: 0.9113 - loss: 0.1636 - val_accuracy: 0.9032 - val_loss: 0.1542 - learning_rate: 0.0010\n",
      "Epoch 53/80\n",
      "\u001b[1m5/5\u001b[0m \u001b[32m━━━━━━━━━━━━━━━━━━━━\u001b[0m\u001b[37m\u001b[0m \u001b[1m0s\u001b[0m 9ms/step - accuracy: 0.9068 - loss: 0.1878 - val_accuracy: 0.9032 - val_loss: 0.1260 - learning_rate: 0.0010\n",
      "Epoch 54/80\n",
      "\u001b[1m5/5\u001b[0m \u001b[32m━━━━━━━━━━━━━━━━━━━━\u001b[0m\u001b[37m\u001b[0m \u001b[1m0s\u001b[0m 9ms/step - accuracy: 0.9239 - loss: 0.1655 - val_accuracy: 0.9355 - val_loss: 0.1167 - learning_rate: 0.0010\n",
      "Epoch 55/80\n",
      "\u001b[1m5/5\u001b[0m \u001b[32m━━━━━━━━━━━━━━━━━━━━\u001b[0m\u001b[37m\u001b[0m \u001b[1m0s\u001b[0m 9ms/step - accuracy: 0.8546 - loss: 0.2074 - val_accuracy: 0.9032 - val_loss: 0.1287 - learning_rate: 0.0010\n",
      "Epoch 56/80\n",
      "\u001b[1m5/5\u001b[0m \u001b[32m━━━━━━━━━━━━━━━━━━━━\u001b[0m\u001b[37m\u001b[0m \u001b[1m0s\u001b[0m 15ms/step - accuracy: 0.9376 - loss: 0.1483 - val_accuracy: 0.9032 - val_loss: 0.1300 - learning_rate: 0.0010\n",
      "Epoch 57/80\n",
      "\u001b[1m5/5\u001b[0m \u001b[32m━━━━━━━━━━━━━━━━━━━━\u001b[0m\u001b[37m\u001b[0m \u001b[1m0s\u001b[0m 9ms/step - accuracy: 0.9021 - loss: 0.1653 - val_accuracy: 0.9032 - val_loss: 0.1214 - learning_rate: 0.0010\n",
      "Epoch 58/80\n",
      "\u001b[1m5/5\u001b[0m \u001b[32m━━━━━━━━━━━━━━━━━━━━\u001b[0m\u001b[37m\u001b[0m \u001b[1m0s\u001b[0m 9ms/step - accuracy: 0.8925 - loss: 0.1595 - val_accuracy: 0.9032 - val_loss: 0.1415 - learning_rate: 0.0010\n",
      "Epoch 59/80\n",
      "\u001b[1m5/5\u001b[0m \u001b[32m━━━━━━━━━━━━━━━━━━━━\u001b[0m\u001b[37m\u001b[0m \u001b[1m0s\u001b[0m 9ms/step - accuracy: 0.8605 - loss: 0.2001 - val_accuracy: 0.9032 - val_loss: 0.1190 - learning_rate: 0.0010\n",
      "Epoch 60/80\n",
      "\u001b[1m5/5\u001b[0m \u001b[32m━━━━━━━━━━━━━━━━━━━━\u001b[0m\u001b[37m\u001b[0m \u001b[1m0s\u001b[0m 9ms/step - accuracy: 0.9060 - loss: 0.1804 - val_accuracy: 0.9032 - val_loss: 0.1377 - learning_rate: 0.0010\n",
      "Epoch 61/80\n",
      "\u001b[1m5/5\u001b[0m \u001b[32m━━━━━━━━━━━━━━━━━━━━\u001b[0m\u001b[37m\u001b[0m \u001b[1m0s\u001b[0m 9ms/step - accuracy: 0.9064 - loss: 0.1759 - val_accuracy: 0.9032 - val_loss: 0.1523 - learning_rate: 5.0000e-04\n",
      "Epoch 62/80\n",
      "\u001b[1m5/5\u001b[0m \u001b[32m━━━━━━━━━━━━━━━━━━━━\u001b[0m\u001b[37m\u001b[0m \u001b[1m0s\u001b[0m 9ms/step - accuracy: 0.9352 - loss: 0.1505 - val_accuracy: 0.9032 - val_loss: 0.1353 - learning_rate: 5.0000e-04\n",
      "Epoch 63/80\n",
      "\u001b[1m5/5\u001b[0m \u001b[32m━━━━━━━━━━━━━━━━━━━━\u001b[0m\u001b[37m\u001b[0m \u001b[1m0s\u001b[0m 9ms/step - accuracy: 0.8913 - loss: 0.1606 - val_accuracy: 0.9355 - val_loss: 0.1097 - learning_rate: 5.0000e-04\n",
      "Epoch 64/80\n",
      "\u001b[1m5/5\u001b[0m \u001b[32m━━━━━━━━━━━━━━━━━━━━\u001b[0m\u001b[37m\u001b[0m \u001b[1m0s\u001b[0m 9ms/step - accuracy: 0.8892 - loss: 0.1785 - val_accuracy: 0.9032 - val_loss: 0.1321 - learning_rate: 5.0000e-04\n",
      "Epoch 65/80\n",
      "\u001b[1m5/5\u001b[0m \u001b[32m━━━━━━━━━━━━━━━━━━━━\u001b[0m\u001b[37m\u001b[0m \u001b[1m0s\u001b[0m 9ms/step - accuracy: 0.9162 - loss: 0.1675 - val_accuracy: 0.9032 - val_loss: 0.1485 - learning_rate: 5.0000e-04\n",
      "Epoch 66/80\n",
      "\u001b[1m5/5\u001b[0m \u001b[32m━━━━━━━━━━━━━━━━━━━━\u001b[0m\u001b[37m\u001b[0m \u001b[1m0s\u001b[0m 9ms/step - accuracy: 0.8954 - loss: 0.1651 - val_accuracy: 0.9032 - val_loss: 0.1189 - learning_rate: 5.0000e-04\n",
      "Epoch 67/80\n",
      "\u001b[1m5/5\u001b[0m \u001b[32m━━━━━━━━━━━━━━━━━━━━\u001b[0m\u001b[37m\u001b[0m \u001b[1m0s\u001b[0m 11ms/step - accuracy: 0.9478 - loss: 0.1694 - val_accuracy: 0.9032 - val_loss: 0.1297 - learning_rate: 5.0000e-04\n",
      "Epoch 68/80\n",
      "\u001b[1m5/5\u001b[0m \u001b[32m━━━━━━━━━━━━━━━━━━━━\u001b[0m\u001b[37m\u001b[0m \u001b[1m0s\u001b[0m 9ms/step - accuracy: 0.9102 - loss: 0.1837 - val_accuracy: 0.9032 - val_loss: 0.1367 - learning_rate: 5.0000e-04\n",
      "Epoch 69/80\n",
      "\u001b[1m5/5\u001b[0m \u001b[32m━━━━━━━━━━━━━━━━━━━━\u001b[0m\u001b[37m\u001b[0m \u001b[1m0s\u001b[0m 9ms/step - accuracy: 0.8947 - loss: 0.1663 - val_accuracy: 0.9032 - val_loss: 0.1350 - learning_rate: 5.0000e-04\n",
      "Epoch 70/80\n",
      "\u001b[1m5/5\u001b[0m \u001b[32m━━━━━━━━━━━━━━━━━━━━\u001b[0m\u001b[37m\u001b[0m \u001b[1m0s\u001b[0m 9ms/step - accuracy: 0.9065 - loss: 0.1852 - val_accuracy: 0.9032 - val_loss: 0.1327 - learning_rate: 2.5000e-04\n",
      "Epoch 71/80\n",
      "\u001b[1m5/5\u001b[0m \u001b[32m━━━━━━━━━━━━━━━━━━━━\u001b[0m\u001b[37m\u001b[0m \u001b[1m0s\u001b[0m 9ms/step - accuracy: 0.9008 - loss: 0.1645 - val_accuracy: 0.9032 - val_loss: 0.1363 - learning_rate: 2.5000e-04\n",
      "Epoch 72/80\n",
      "\u001b[1m5/5\u001b[0m \u001b[32m━━━━━━━━━━━━━━━━━━━━\u001b[0m\u001b[37m\u001b[0m \u001b[1m0s\u001b[0m 9ms/step - accuracy: 0.9258 - loss: 0.1737 - val_accuracy: 0.9032 - val_loss: 0.1235 - learning_rate: 2.5000e-04\n",
      "Epoch 73/80\n",
      "\u001b[1m5/5\u001b[0m \u001b[32m━━━━━━━━━━━━━━━━━━━━\u001b[0m\u001b[37m\u001b[0m \u001b[1m0s\u001b[0m 9ms/step - accuracy: 0.9232 - loss: 0.1600 - val_accuracy: 0.9032 - val_loss: 0.1113 - learning_rate: 2.5000e-04\n",
      "Epoch 74/80\n",
      "\u001b[1m5/5\u001b[0m \u001b[32m━━━━━━━━━━━━━━━━━━━━\u001b[0m\u001b[37m\u001b[0m \u001b[1m0s\u001b[0m 9ms/step - accuracy: 0.9026 - loss: 0.1716 - val_accuracy: 0.9032 - val_loss: 0.1234 - learning_rate: 2.5000e-04\n",
      "Epoch 75/80\n",
      "\u001b[1m5/5\u001b[0m \u001b[32m━━━━━━━━━━━━━━━━━━━━\u001b[0m\u001b[37m\u001b[0m \u001b[1m0s\u001b[0m 9ms/step - accuracy: 0.9400 - loss: 0.1467 - val_accuracy: 0.9032 - val_loss: 0.1297 - learning_rate: 2.5000e-04\n"
     ]
    }
   ],
   "source": [
    "# Compile and train\n",
    "model.compile(optimizer=keras.optimizers.Adam(1e-3), loss='sparse_categorical_crossentropy', metrics=['accuracy'])\n",
    "callbacks = [\n",
    "keras.callbacks.EarlyStopping(monitor='val_loss', patience=12, restore_best_weights=True),\n",
    "keras.callbacks.ReduceLROnPlateau(monitor='val_loss', factor=0.5, patience=6)\n",
    "]\n",
    "\n",
    "history = model.fit(X_train, y_train, validation_data=(X_val,y_val), epochs=80, batch_size=32, callbacks=callbacks)"
   ]
  },
  {
   "cell_type": "code",
   "execution_count": 13,
   "id": "5c041ada-22f6-42a1-9ddc-bc102ebedbd2",
   "metadata": {},
   "outputs": [
    {
     "name": "stdout",
     "output_type": "stream",
     "text": [
      "Test acc: 0.75\n",
      "\u001b[1m1/1\u001b[0m \u001b[32m━━━━━━━━━━━━━━━━━━━━\u001b[0m\u001b[37m\u001b[0m \u001b[1m0s\u001b[0m 44ms/step\n",
      "              precision    recall  f1-score   support\n",
      "\n",
      "         OFF       1.00      1.00      1.00        10\n",
      "          ON       0.60      0.82      0.69        11\n",
      "      NO_FAN       0.71      0.45      0.56        11\n",
      "\n",
      "    accuracy                           0.75        32\n",
      "   macro avg       0.77      0.76      0.75        32\n",
      "weighted avg       0.76      0.75      0.74        32\n",
      "\n"
     ]
    }
   ],
   "source": [
    "# Evaluate\n",
    "test_loss, test_acc = model.evaluate(X_test, y_test, verbose=0)\n",
    "print('Test acc:', test_acc)\n",
    "y_pred = np.argmax(model.predict(X_test), axis=1)\n",
    "print(classification_report(y_test, y_pred, target_names=list(LABEL_MAP.keys())))"
   ]
  },
  {
   "cell_type": "code",
   "execution_count": null,
   "id": "917d7dab-e05b-4508-8fa1-664cd6f004da",
   "metadata": {},
   "outputs": [],
   "source": []
  }
 ],
 "metadata": {
  "kernelspec": {
   "display_name": "Python 3 (ipykernel)",
   "language": "python",
   "name": "python3"
  },
  "language_info": {
   "codemirror_mode": {
    "name": "ipython",
    "version": 3
   },
   "file_extension": ".py",
   "mimetype": "text/x-python",
   "name": "python",
   "nbconvert_exporter": "python",
   "pygments_lexer": "ipython3",
   "version": "3.12.2"
  }
 },
 "nbformat": 4,
 "nbformat_minor": 5
}
